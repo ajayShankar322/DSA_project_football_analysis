{
 "cells": [
  {
   "cell_type": "code",
   "execution_count": 2,
   "metadata": {},
   "outputs": [],
   "source": [
    "import numpy as np \n",
    "import pandas as pd \n",
    "import warnings\n",
    "warnings.filterwarnings('ignore')\n",
    "\n",
    "\n"
   ]
  },
  {
   "cell_type": "code",
   "execution_count": 3,
   "metadata": {},
   "outputs": [],
   "source": [
    "import matplotlib.pyplot as plt\n",
    "import plotly.express as px\n",
    "import seaborn as sns\n"
   ]
  },
  {
   "cell_type": "code",
   "execution_count": 4,
   "metadata": {},
   "outputs": [
    {
     "name": "stdout",
     "output_type": "stream",
     "text": [
      "<class 'pandas.core.frame.DataFrame'>\n",
      "Int64Index: 50 entries, 1 to 50\n",
      "Data columns (total 14 columns):\n",
      " #   Column         Non-Null Count  Dtype  \n",
      "---  ------         --------------  -----  \n",
      " 0   Player         50 non-null     object \n",
      " 1   Name           50 non-null     object \n",
      " 2   Club           50 non-null     object \n",
      " 3   Age            50 non-null     object \n",
      " 4   Main position  50 non-null     object \n",
      " 5   Apps           50 non-null     int64  \n",
      " 6   Mins           50 non-null     int64  \n",
      " 7   Goals          50 non-null     int64  \n",
      " 8   Assists        50 non-null     int64  \n",
      " 9   Shot per Game  50 non-null     float64\n",
      " 10  Key Pass       50 non-null     float64\n",
      " 11  Drb            50 non-null     float64\n",
      " 12  Fouled         50 non-null     float64\n",
      " 13  Rating         50 non-null     float64\n",
      "dtypes: float64(5), int64(4), object(5)\n",
      "memory usage: 5.9+ KB\n"
     ]
    }
   ],
   "source": [
    "df=pd.read_csv(r\"https://github.com/ajayShankar322/DSA_project_football_analysis/blob/main/football_data.csv\")\n",
    "df.set_index(\"R\",inplace=True)\n",
    "df.info()"
   ]
  },
  {
   "attachments": {},
   "cell_type": "markdown",
   "metadata": {},
   "source": [
    "Dataset info"
   ]
  },
  {
   "cell_type": "code",
   "execution_count": 5,
   "metadata": {},
   "outputs": [
    {
     "data": {
      "text/html": [
       "<div>\n",
       "<style scoped>\n",
       "    .dataframe tbody tr th:only-of-type {\n",
       "        vertical-align: middle;\n",
       "    }\n",
       "\n",
       "    .dataframe tbody tr th {\n",
       "        vertical-align: top;\n",
       "    }\n",
       "\n",
       "    .dataframe thead th {\n",
       "        text-align: right;\n",
       "    }\n",
       "</style>\n",
       "<table border=\"1\" class=\"dataframe\">\n",
       "  <thead>\n",
       "    <tr style=\"text-align: right;\">\n",
       "      <th></th>\n",
       "      <th>Player</th>\n",
       "      <th>Name</th>\n",
       "      <th>Club</th>\n",
       "      <th>Age</th>\n",
       "      <th>Main position</th>\n",
       "      <th>Apps</th>\n",
       "      <th>Mins</th>\n",
       "      <th>Goals</th>\n",
       "      <th>Assists</th>\n",
       "      <th>Shot per Game</th>\n",
       "      <th>Key Pass</th>\n",
       "      <th>Drb</th>\n",
       "      <th>Fouled</th>\n",
       "      <th>Rating</th>\n",
       "    </tr>\n",
       "    <tr>\n",
       "      <th>R</th>\n",
       "      <th></th>\n",
       "      <th></th>\n",
       "      <th></th>\n",
       "      <th></th>\n",
       "      <th></th>\n",
       "      <th></th>\n",
       "      <th></th>\n",
       "      <th></th>\n",
       "      <th></th>\n",
       "      <th></th>\n",
       "      <th></th>\n",
       "      <th></th>\n",
       "      <th></th>\n",
       "      <th></th>\n",
       "    </tr>\n",
       "  </thead>\n",
       "  <tbody>\n",
       "    <tr>\n",
       "      <th>1</th>\n",
       "      <td>Lionel Messi</td>\n",
       "      <td>Messi</td>\n",
       "      <td>Barcelona</td>\n",
       "      <td>32</td>\n",
       "      <td>FW</td>\n",
       "      <td>21</td>\n",
       "      <td>1891</td>\n",
       "      <td>19</td>\n",
       "      <td>12</td>\n",
       "      <td>4.8</td>\n",
       "      <td>2.5</td>\n",
       "      <td>5.4</td>\n",
       "      <td>1.7</td>\n",
       "      <td>8.61</td>\n",
       "    </tr>\n",
       "    <tr>\n",
       "      <th>2</th>\n",
       "      <td>Cristiano Ronaldo</td>\n",
       "      <td>Ronaldo</td>\n",
       "      <td>Juventus</td>\n",
       "      <td>35</td>\n",
       "      <td>FW</td>\n",
       "      <td>22</td>\n",
       "      <td>1945</td>\n",
       "      <td>29</td>\n",
       "      <td>13</td>\n",
       "      <td>5.9</td>\n",
       "      <td>1.7</td>\n",
       "      <td>1.8</td>\n",
       "      <td>1.9</td>\n",
       "      <td>7.90</td>\n",
       "    </tr>\n",
       "    <tr>\n",
       "      <th>3</th>\n",
       "      <td>Robert Lewandowski</td>\n",
       "      <td>Lewandowski</td>\n",
       "      <td>Bayern Munich</td>\n",
       "      <td>31</td>\n",
       "      <td>FW</td>\n",
       "      <td>23</td>\n",
       "      <td>2042</td>\n",
       "      <td>25</td>\n",
       "      <td>3</td>\n",
       "      <td>4.7</td>\n",
       "      <td>1.2</td>\n",
       "      <td>2.1</td>\n",
       "      <td>1.5</td>\n",
       "      <td>8.16</td>\n",
       "    </tr>\n",
       "    <tr>\n",
       "      <th>4</th>\n",
       "      <td>Kylian Mbappé</td>\n",
       "      <td>Mbappé</td>\n",
       "      <td>Paris Saint-Germain</td>\n",
       "      <td>21</td>\n",
       "      <td>FW</td>\n",
       "      <td>17</td>\n",
       "      <td>1516</td>\n",
       "      <td>18</td>\n",
       "      <td>5</td>\n",
       "      <td>4.4</td>\n",
       "      <td>2.0</td>\n",
       "      <td>2.8</td>\n",
       "      <td>1.1</td>\n",
       "      <td>8.14</td>\n",
       "    </tr>\n",
       "    <tr>\n",
       "      <th>5</th>\n",
       "      <td>Josip Ilicic</td>\n",
       "      <td>Ilicic</td>\n",
       "      <td>Atalanta</td>\n",
       "      <td>32</td>\n",
       "      <td>FW</td>\n",
       "      <td>19</td>\n",
       "      <td>1492</td>\n",
       "      <td>15</td>\n",
       "      <td>5</td>\n",
       "      <td>3.6</td>\n",
       "      <td>2.5</td>\n",
       "      <td>2.6</td>\n",
       "      <td>2.4</td>\n",
       "      <td>7.95</td>\n",
       "    </tr>\n",
       "  </tbody>\n",
       "</table>\n",
       "</div>"
      ],
      "text/plain": [
       "               Player          Name                 Club  Age Main position  \\\n",
       "R                                                                             \n",
       "1        Lionel Messi         Messi            Barcelona   32            FW   \n",
       "2   Cristiano Ronaldo       Ronaldo             Juventus   35            FW   \n",
       "3  Robert Lewandowski   Lewandowski        Bayern Munich   31            FW   \n",
       "4       Kylian Mbappé        Mbappé  Paris Saint-Germain   21            FW   \n",
       "5        Josip Ilicic        Ilicic             Atalanta   32            FW   \n",
       "\n",
       "   Apps  Mins  Goals  Assists  Shot per Game  Key Pass  Drb  Fouled  Rating  \n",
       "R                                                                            \n",
       "1    21  1891     19       12            4.8       2.5  5.4     1.7    8.61  \n",
       "2    22  1945     29       13            5.9       1.7  1.8     1.9    7.90  \n",
       "3    23  2042     25        3            4.7       1.2  2.1     1.5    8.16  \n",
       "4    17  1516     18        5            4.4       2.0  2.8     1.1    8.14  \n",
       "5    19  1492     15        5            3.6       2.5  2.6     2.4    7.95  "
      ]
     },
     "execution_count": 5,
     "metadata": {},
     "output_type": "execute_result"
    }
   ],
   "source": [
    "df.head()"
   ]
  },
  {
   "attachments": {},
   "cell_type": "markdown",
   "metadata": {},
   "source": [
    "\n",
    "\n",
    "Scatter Plot of Goals VS Assists of Top Players\n"
   ]
  },
  {
   "cell_type": "code",
   "execution_count": 6,
   "metadata": {},
   "outputs": [
    {
     "data": {
      "application/vnd.plotly.v1+json": {
       "config": {
        "plotlyServerURL": "https://plot.ly"
       },
       "data": [
        {
         "hovertemplate": "Player=Lionel Messi<br>Assists=%{x}<br>Goals=%{y}<br>Name=%{text}<extra></extra>",
         "legendgroup": "Lionel Messi",
         "marker": {
          "color": "#636efa",
          "symbol": "circle"
         },
         "mode": "markers+text",
         "name": "Lionel Messi",
         "orientation": "v",
         "showlegend": true,
         "text": [
          "Messi"
         ],
         "textposition": "top center",
         "type": "scatter",
         "x": [
          12
         ],
         "xaxis": "x",
         "y": [
          19
         ],
         "yaxis": "y"
        },
        {
         "hovertemplate": "Player=Cristiano Ronaldo<br>Assists=%{x}<br>Goals=%{y}<br>Name=%{text}<extra></extra>",
         "legendgroup": "Cristiano Ronaldo",
         "marker": {
          "color": "#EF553B",
          "symbol": "circle"
         },
         "mode": "markers+text",
         "name": "Cristiano Ronaldo",
         "orientation": "v",
         "showlegend": true,
         "text": [
          "Ronaldo"
         ],
         "textposition": "top center",
         "type": "scatter",
         "x": [
          13
         ],
         "xaxis": "x",
         "y": [
          29
         ],
         "yaxis": "y"
        },
        {
         "hovertemplate": "Player=Robert Lewandowski<br>Assists=%{x}<br>Goals=%{y}<br>Name=%{text}<extra></extra>",
         "legendgroup": "Robert Lewandowski",
         "marker": {
          "color": "#00cc96",
          "symbol": "circle"
         },
         "mode": "markers+text",
         "name": "Robert Lewandowski",
         "orientation": "v",
         "showlegend": true,
         "text": [
          " Lewandowski"
         ],
         "textposition": "top center",
         "type": "scatter",
         "x": [
          3
         ],
         "xaxis": "x",
         "y": [
          25
         ],
         "yaxis": "y"
        },
        {
         "hovertemplate": "Player=Kylian Mbappé<br>Assists=%{x}<br>Goals=%{y}<br>Name=%{text}<extra></extra>",
         "legendgroup": "Kylian Mbappé",
         "marker": {
          "color": "#ab63fa",
          "symbol": "circle"
         },
         "mode": "markers+text",
         "name": "Kylian Mbappé",
         "orientation": "v",
         "showlegend": true,
         "text": [
          "Mbappé"
         ],
         "textposition": "top center",
         "type": "scatter",
         "x": [
          5
         ],
         "xaxis": "x",
         "y": [
          18
         ],
         "yaxis": "y"
        },
        {
         "hovertemplate": "Player=Josip Ilicic<br>Assists=%{x}<br>Goals=%{y}<br>Name=%{text}<extra></extra>",
         "legendgroup": "Josip Ilicic",
         "marker": {
          "color": "#FFA15A",
          "symbol": "circle"
         },
         "mode": "markers+text",
         "name": "Josip Ilicic",
         "orientation": "v",
         "showlegend": true,
         "text": [
          " Ilicic"
         ],
         "textposition": "top center",
         "type": "scatter",
         "x": [
          5
         ],
         "xaxis": "x",
         "y": [
          15
         ],
         "yaxis": "y"
        },
        {
         "hovertemplate": "Player=Kevin De Bruyne<br>Assists=%{x}<br>Goals=%{y}<br>Name=%{text}<extra></extra>",
         "legendgroup": "Kevin De Bruyne",
         "marker": {
          "color": "#19d3f3",
          "symbol": "circle"
         },
         "mode": "markers+text",
         "name": "Kevin De Bruyne",
         "orientation": "v",
         "showlegend": true,
         "text": [
          "De Bruyne"
         ],
         "textposition": "top center",
         "type": "scatter",
         "x": [
          16
         ],
         "xaxis": "x",
         "y": [
          8
         ],
         "yaxis": "y"
        },
        {
         "hovertemplate": "Player=Neymar<br>Assists=%{x}<br>Goals=%{y}<br>Name=%{text}<extra></extra>",
         "legendgroup": "Neymar",
         "marker": {
          "color": "#FF6692",
          "symbol": "circle"
         },
         "mode": "markers+text",
         "name": "Neymar",
         "orientation": "v",
         "showlegend": true,
         "text": [
          "Neymar"
         ],
         "textposition": "top center",
         "type": "scatter",
         "x": [
          6
         ],
         "xaxis": "x",
         "y": [
          13
         ],
         "yaxis": "y"
        },
        {
         "hovertemplate": "Player=Jadon Sancho<br>Assists=%{x}<br>Goals=%{y}<br>Name=%{text}<extra></extra>",
         "legendgroup": "Jadon Sancho",
         "marker": {
          "color": "#B6E880",
          "symbol": "circle"
         },
         "mode": "markers+text",
         "name": "Jadon Sancho",
         "orientation": "v",
         "showlegend": true,
         "text": [
          "Sancho"
         ],
         "textposition": "top center",
         "type": "scatter",
         "x": [
          15
         ],
         "xaxis": "x",
         "y": [
          14
         ],
         "yaxis": "y"
        },
        {
         "hovertemplate": "Player=Ángel Di María<br>Assists=%{x}<br>Goals=%{y}<br>Name=%{text}<extra></extra>",
         "legendgroup": "Ángel Di María",
         "marker": {
          "color": "#FF97FF",
          "symbol": "circle"
         },
         "mode": "markers+text",
         "name": "Ángel Di María",
         "orientation": "v",
         "showlegend": true,
         "text": [
          "Di María"
         ],
         "textposition": "top center",
         "type": "scatter",
         "x": [
          14
         ],
         "xaxis": "x",
         "y": [
          8
         ],
         "yaxis": "y"
        },
        {
         "hovertemplate": "Player=Dimitri Payet<br>Assists=%{x}<br>Goals=%{y}<br>Name=%{text}<extra></extra>",
         "legendgroup": "Dimitri Payet",
         "marker": {
          "color": "#FECB52",
          "symbol": "circle"
         },
         "mode": "markers+text",
         "name": "Dimitri Payet",
         "orientation": "v",
         "showlegend": true,
         "text": [
          "Payet"
         ],
         "textposition": "top center",
         "type": "scatter",
         "x": [
          4
         ],
         "xaxis": "x",
         "y": [
          9
         ],
         "yaxis": "y"
        },
        {
         "hovertemplate": "Player=Ciro Immobile<br>Assists=%{x}<br>Goals=%{y}<br>Name=%{text}<extra></extra>",
         "legendgroup": "Ciro Immobile",
         "marker": {
          "color": "#636efa",
          "symbol": "circle"
         },
         "mode": "markers+text",
         "name": "Ciro Immobile",
         "orientation": "v",
         "showlegend": true,
         "text": [
          "Immobile"
         ],
         "textposition": "top center",
         "type": "scatter",
         "x": [
          7
         ],
         "xaxis": "x",
         "y": [
          27
         ],
         "yaxis": "y"
        },
        {
         "hovertemplate": "Player=Luis Alberto<br>Assists=%{x}<br>Goals=%{y}<br>Name=%{text}<extra></extra>",
         "legendgroup": "Luis Alberto",
         "marker": {
          "color": "#EF553B",
          "symbol": "circle"
         },
         "mode": "markers+text",
         "name": "Luis Alberto",
         "orientation": "v",
         "showlegend": true,
         "text": [
          "Alberto"
         ],
         "textposition": "top center",
         "type": "scatter",
         "x": [
          12
         ],
         "xaxis": "x",
         "y": [
          4
         ],
         "yaxis": "y"
        },
        {
         "hovertemplate": "Player=Adama Traoré<br>Assists=%{x}<br>Goals=%{y}<br>Name=%{text}<extra></extra>",
         "legendgroup": "Adama Traoré",
         "marker": {
          "color": "#00cc96",
          "symbol": "circle"
         },
         "mode": "markers+text",
         "name": "Adama Traoré",
         "orientation": "v",
         "showlegend": true,
         "text": [
          "Traoré"
         ],
         "textposition": "top center",
         "type": "scatter",
         "x": [
          7
         ],
         "xaxis": "x",
         "y": [
          4
         ],
         "yaxis": "y"
        },
        {
         "hovertemplate": "Player=Serge Gnabry<br>Assists=%{x}<br>Goals=%{y}<br>Name=%{text}<extra></extra>",
         "legendgroup": "Serge Gnabry",
         "marker": {
          "color": "#ab63fa",
          "symbol": "circle"
         },
         "mode": "markers+text",
         "name": "Serge Gnabry",
         "orientation": "v",
         "showlegend": true,
         "text": [
          "Gnabry"
         ],
         "textposition": "top center",
         "type": "scatter",
         "x": [
          9
         ],
         "xaxis": "x",
         "y": [
          11
         ],
         "yaxis": "y"
        },
        {
         "hovertemplate": "Player=Riyad Mahrez<br>Assists=%{x}<br>Goals=%{y}<br>Name=%{text}<extra></extra>",
         "legendgroup": "Riyad Mahrez",
         "marker": {
          "color": "#FFA15A",
          "symbol": "circle"
         },
         "mode": "markers+text",
         "name": "Riyad Mahrez",
         "orientation": "v",
         "showlegend": true,
         "text": [
          "Mahrez"
         ],
         "textposition": "top center",
         "type": "scatter",
         "x": [
          8
         ],
         "xaxis": "x",
         "y": [
          7
         ],
         "yaxis": "y"
        },
        {
         "hovertemplate": "Player=Timo Werner<br>Assists=%{x}<br>Goals=%{y}<br>Name=%{text}<extra></extra>",
         "legendgroup": "Timo Werner",
         "marker": {
          "color": "#19d3f3",
          "symbol": "circle"
         },
         "mode": "markers+text",
         "name": "Timo Werner",
         "orientation": "v",
         "showlegend": true,
         "text": [
          "Werner"
         ],
         "textposition": "top center",
         "type": "scatter",
         "x": [
          7
         ],
         "xaxis": "x",
         "y": [
          21
         ],
         "yaxis": "y"
        },
        {
         "hovertemplate": "Player=Duván Zapata<br>Assists=%{x}<br>Goals=%{y}<br>Name=%{text}<extra></extra>",
         "legendgroup": "Duván Zapata",
         "marker": {
          "color": "#FF6692",
          "symbol": "circle"
         },
         "mode": "markers+text",
         "name": "Duván Zapata",
         "orientation": "v",
         "showlegend": true,
         "text": [
          "Zapata"
         ],
         "textposition": "top center",
         "type": "scatter",
         "x": [
          5
         ],
         "xaxis": "x",
         "y": [
          11
         ],
         "yaxis": "y"
        },
        {
         "hovertemplate": "Player=Luis Suárez<br>Assists=%{x}<br>Goals=%{y}<br>Name=%{text}<extra></extra>",
         "legendgroup": "Luis Suárez",
         "marker": {
          "color": "#B6E880",
          "symbol": "circle"
         },
         "mode": "markers+text",
         "name": "Luis Suárez",
         "orientation": "v",
         "showlegend": true,
         "text": [
          "Suárez"
         ],
         "textposition": "top center",
         "type": "scatter",
         "x": [
          7
         ],
         "xaxis": "x",
         "y": [
          11
         ],
         "yaxis": "y"
        },
        {
         "hovertemplate": "Player=Filip Kostic<br>Assists=%{x}<br>Goals=%{y}<br>Name=%{text}<extra></extra>",
         "legendgroup": "Filip Kostic",
         "marker": {
          "color": "#FF97FF",
          "symbol": "circle"
         },
         "mode": "markers+text",
         "name": "Filip Kostic",
         "orientation": "v",
         "showlegend": true,
         "text": [
          "Kostic"
         ],
         "textposition": "top center",
         "type": "scatter",
         "x": [
          8
         ],
         "xaxis": "x",
         "y": [
          4
         ],
         "yaxis": "y"
        },
        {
         "hovertemplate": "Player=Thiago<br>Assists=%{x}<br>Goals=%{y}<br>Name=%{text}<extra></extra>",
         "legendgroup": "Thiago",
         "marker": {
          "color": "#FECB52",
          "symbol": "circle"
         },
         "mode": "markers+text",
         "name": "Thiago",
         "orientation": "v",
         "showlegend": true,
         "text": [
          "Thiago"
         ],
         "textposition": "top center",
         "type": "scatter",
         "x": [
          0
         ],
         "xaxis": "x",
         "y": [
          3
         ],
         "yaxis": "y"
        },
        {
         "hovertemplate": "Player=Casemiro<br>Assists=%{x}<br>Goals=%{y}<br>Name=%{text}<extra></extra>",
         "legendgroup": "Casemiro",
         "marker": {
          "color": "#636efa",
          "symbol": "circle"
         },
         "mode": "markers+text",
         "name": "Casemiro",
         "orientation": "v",
         "showlegend": true,
         "text": [
          "Casemiro"
         ],
         "textposition": "top center",
         "type": "scatter",
         "x": [
          2
         ],
         "xaxis": "x",
         "y": [
          3
         ],
         "yaxis": "y"
        },
        {
         "hovertemplate": "Player=Alphonso Davies<br>Assists=%{x}<br>Goals=%{y}<br>Name=%{text}<extra></extra>",
         "legendgroup": "Alphonso Davies",
         "marker": {
          "color": "#EF553B",
          "symbol": "circle"
         },
         "mode": "markers+text",
         "name": "Alphonso Davies",
         "orientation": "v",
         "showlegend": true,
         "text": [
          "Davies"
         ],
         "textposition": "top center",
         "type": "scatter",
         "x": [
          4
         ],
         "xaxis": "x",
         "y": [
          1
         ],
         "yaxis": "y"
        },
        {
         "hovertemplate": "Player=Christopher Nkunku<br>Assists=%{x}<br>Goals=%{y}<br>Name=%{text}<extra></extra>",
         "legendgroup": "Christopher Nkunku",
         "marker": {
          "color": "#00cc96",
          "symbol": "circle"
         },
         "mode": "markers+text",
         "name": "Christopher Nkunku",
         "orientation": "v",
         "showlegend": true,
         "text": [
          "Nkunku"
         ],
         "textposition": "top center",
         "type": "scatter",
         "x": [
          12
         ],
         "xaxis": "x",
         "y": [
          4
         ],
         "yaxis": "y"
        },
        {
         "hovertemplate": "Player=Alejandro Gómez<br>Assists=%{x}<br>Goals=%{y}<br>Name=%{text}<extra></extra>",
         "legendgroup": "Alejandro Gómez",
         "marker": {
          "color": "#ab63fa",
          "symbol": "circle"
         },
         "mode": "markers+text",
         "name": "Alejandro Gómez",
         "orientation": "v",
         "showlegend": true,
         "text": [
          " Gómez"
         ],
         "textposition": "top center",
         "type": "scatter",
         "x": [
          10
         ],
         "xaxis": "x",
         "y": [
          6
         ],
         "yaxis": "y"
        },
        {
         "hovertemplate": "Player=Edin Dzeko<br>Assists=%{x}<br>Goals=%{y}<br>Name=%{text}<extra></extra>",
         "legendgroup": "Edin Dzeko",
         "marker": {
          "color": "#FFA15A",
          "symbol": "circle"
         },
         "mode": "markers+text",
         "name": "Edin Dzeko",
         "orientation": "v",
         "showlegend": true,
         "text": [
          "Dzeko"
         ],
         "textposition": "top center",
         "type": "scatter",
         "x": [
          4
         ],
         "xaxis": "x",
         "y": [
          12
         ],
         "yaxis": "y"
        },
        {
         "hovertemplate": "Player=Marco Reus<br>Assists=%{x}<br>Goals=%{y}<br>Name=%{text}<extra></extra>",
         "legendgroup": "Marco Reus",
         "marker": {
          "color": "#19d3f3",
          "symbol": "circle"
         },
         "mode": "markers+text",
         "name": "Marco Reus",
         "orientation": "v",
         "showlegend": true,
         "text": [
          "Reus"
         ],
         "textposition": "top center",
         "type": "scatter",
         "x": [
          5
         ],
         "xaxis": "x",
         "y": [
          11
         ],
         "yaxis": "y"
        },
        {
         "hovertemplate": "Player=Ricardo Pereira<br>Assists=%{x}<br>Goals=%{y}<br>Name=%{text}<extra></extra>",
         "legendgroup": "Ricardo Pereira",
         "marker": {
          "color": "#FF6692",
          "symbol": "circle"
         },
         "mode": "markers+text",
         "name": "Ricardo Pereira",
         "orientation": "v",
         "showlegend": true,
         "text": [
          "Pereira"
         ],
         "textposition": "top center",
         "type": "scatter",
         "x": [
          2
         ],
         "xaxis": "x",
         "y": [
          3
         ],
         "yaxis": "y"
        },
        {
         "hovertemplate": "Player=Sadio Mané<br>Assists=%{x}<br>Goals=%{y}<br>Name=%{text}<extra></extra>",
         "legendgroup": "Sadio Mané",
         "marker": {
          "color": "#B6E880",
          "symbol": "circle"
         },
         "mode": "markers+text",
         "name": "Sadio Mané",
         "orientation": "v",
         "showlegend": true,
         "text": [
          "Mané"
         ],
         "textposition": "top center",
         "type": "scatter",
         "x": [
          7
         ],
         "xaxis": "x",
         "y": [
          14
         ],
         "yaxis": "y"
        },
        {
         "hovertemplate": "Player=Domenico Berardi<br>Assists=%{x}<br>Goals=%{y}<br>Name=%{text}<extra></extra>",
         "legendgroup": "Domenico Berardi",
         "marker": {
          "color": "#FF97FF",
          "symbol": "circle"
         },
         "mode": "markers+text",
         "name": "Domenico Berardi",
         "orientation": "v",
         "showlegend": true,
         "text": [
          "Berardi"
         ],
         "textposition": "top center",
         "type": "scatter",
         "x": [
          5
         ],
         "xaxis": "x",
         "y": [
          9
         ],
         "yaxis": "y"
        },
        {
         "hovertemplate": "Player=Mohamed Salah<br>Assists=%{x}<br>Goals=%{y}<br>Name=%{text}<extra></extra>",
         "legendgroup": "Mohamed Salah",
         "marker": {
          "color": "#FECB52",
          "symbol": "circle"
         },
         "mode": "markers+text",
         "name": "Mohamed Salah",
         "orientation": "v",
         "showlegend": true,
         "text": [
          "Salah"
         ],
         "textposition": "top center",
         "type": "scatter",
         "x": [
          6
         ],
         "xaxis": "x",
         "y": [
          16
         ],
         "yaxis": "y"
        },
        {
         "hovertemplate": "Player=Téji Savanier<br>Assists=%{x}<br>Goals=%{y}<br>Name=%{text}<extra></extra>",
         "legendgroup": "Téji Savanier",
         "marker": {
          "color": "#636efa",
          "symbol": "circle"
         },
         "mode": "markers+text",
         "name": "Téji Savanier",
         "orientation": "v",
         "showlegend": true,
         "text": [
          "Savanier"
         ],
         "textposition": "top center",
         "type": "scatter",
         "x": [
          2
         ],
         "xaxis": "x",
         "y": [
          6
         ],
         "yaxis": "y"
        },
        {
         "hovertemplate": "Player=Romelu Lukaku<br>Assists=%{x}<br>Goals=%{y}<br>Name=%{text}<extra></extra>",
         "legendgroup": "Romelu Lukaku",
         "marker": {
          "color": "#EF553B",
          "symbol": "circle"
         },
         "mode": "markers+text",
         "name": "Romelu Lukaku",
         "orientation": "v",
         "showlegend": true,
         "text": [
          "Lukaku"
         ],
         "textposition": "top center",
         "type": "scatter",
         "x": [
          2
         ],
         "xaxis": "x",
         "y": [
          17
         ],
         "yaxis": "y"
        },
        {
         "hovertemplate": "Player=Suat Serdar<br>Assists=%{x}<br>Goals=%{y}<br>Name=%{text}<extra></extra>",
         "legendgroup": "Suat Serdar",
         "marker": {
          "color": "#00cc96",
          "symbol": "circle"
         },
         "mode": "markers+text",
         "name": "Suat Serdar",
         "orientation": "v",
         "showlegend": true,
         "text": [
          "Serdar"
         ],
         "textposition": "top center",
         "type": "scatter",
         "x": [
          0
         ],
         "xaxis": "x",
         "y": [
          7
         ],
         "yaxis": "y"
        },
        {
         "hovertemplate": "Player=Nabil Fekir<br>Assists=%{x}<br>Goals=%{y}<br>Name=%{text}<extra></extra>",
         "legendgroup": "Nabil Fekir",
         "marker": {
          "color": "#ab63fa",
          "symbol": "circle"
         },
         "mode": "markers+text",
         "name": "Nabil Fekir",
         "orientation": "v",
         "showlegend": true,
         "text": [
          "Fekir"
         ],
         "textposition": "top center",
         "type": "scatter",
         "x": [
          3
         ],
         "xaxis": "x",
         "y": [
          7
         ],
         "yaxis": "y"
        },
        {
         "hovertemplate": "Player=Karim Benzema<br>Assists=%{x}<br>Goals=%{y}<br>Name=%{text}<extra></extra>",
         "legendgroup": "Karim Benzema",
         "marker": {
          "color": "#FFA15A",
          "symbol": "circle"
         },
         "mode": "markers+text",
         "name": "Karim Benzema",
         "orientation": "v",
         "showlegend": true,
         "text": [
          "Benzema"
         ],
         "textposition": "top center",
         "type": "scatter",
         "x": [
          6
         ],
         "xaxis": "x",
         "y": [
          14
         ],
         "yaxis": "y"
        },
        {
         "hovertemplate": "Player=Paulo Dybala<br>Assists=%{x}<br>Goals=%{y}<br>Name=%{text}<extra></extra>",
         "legendgroup": "Paulo Dybala",
         "marker": {
          "color": "#19d3f3",
          "symbol": "circle"
         },
         "mode": "markers+text",
         "name": "Paulo Dybala",
         "orientation": "v",
         "showlegend": true,
         "text": [
          "Dybala"
         ],
         "textposition": "top center",
         "type": "scatter",
         "x": [
          4
         ],
         "xaxis": "x",
         "y": [
          7
         ],
         "yaxis": "y"
        },
        {
         "hovertemplate": "Player=Raphael Guerreiro<br>Assists=%{x}<br>Goals=%{y}<br>Name=%{text}<extra></extra>",
         "legendgroup": "Raphael Guerreiro",
         "marker": {
          "color": "#FF6692",
          "symbol": "circle"
         },
         "mode": "markers+text",
         "name": "Raphael Guerreiro",
         "orientation": "v",
         "showlegend": true,
         "text": [
          "Guerreiro"
         ],
         "textposition": "top center",
         "type": "scatter",
         "x": [
          2
         ],
         "xaxis": "x",
         "y": [
          5
         ],
         "yaxis": "y"
        },
        {
         "hovertemplate": "Player=Wilfred Ndidi<br>Assists=%{x}<br>Goals=%{y}<br>Name=%{text}<extra></extra>",
         "legendgroup": "Wilfred Ndidi",
         "marker": {
          "color": "#B6E880",
          "symbol": "circle"
         },
         "mode": "markers+text",
         "name": "Wilfred Ndidi",
         "orientation": "v",
         "showlegend": true,
         "text": [
          "Ndidi"
         ],
         "textposition": "top center",
         "type": "scatter",
         "x": [
          1
         ],
         "xaxis": "x",
         "y": [
          2
         ],
         "yaxis": "y"
        },
        {
         "hovertemplate": "Player=Achraf Hakimi<br>Assists=%{x}<br>Goals=%{y}<br>Name=%{text}<extra></extra>",
         "legendgroup": "Achraf Hakimi",
         "marker": {
          "color": "#FF97FF",
          "symbol": "circle"
         },
         "mode": "markers+text",
         "name": "Achraf Hakimi",
         "orientation": "v",
         "showlegend": true,
         "text": [
          " Hakimi"
         ],
         "textposition": "top center",
         "type": "scatter",
         "x": [
          10
         ],
         "xaxis": "x",
         "y": [
          3
         ],
         "yaxis": "y"
        },
        {
         "hovertemplate": "Player=Mikel Merino<br>Assists=%{x}<br>Goals=%{y}<br>Name=%{text}<extra></extra>",
         "legendgroup": "Mikel Merino",
         "marker": {
          "color": "#FECB52",
          "symbol": "circle"
         },
         "mode": "markers+text",
         "name": "Mikel Merino",
         "orientation": "v",
         "showlegend": true,
         "text": [
          "Merino"
         ],
         "textposition": "top center",
         "type": "scatter",
         "x": [
          1
         ],
         "xaxis": "x",
         "y": [
          3
         ],
         "yaxis": "y"
        },
        {
         "hovertemplate": "Player=Wissam Ben Yedder<br>Assists=%{x}<br>Goals=%{y}<br>Name=%{text}<extra></extra>",
         "legendgroup": "Wissam Ben Yedder",
         "marker": {
          "color": "#636efa",
          "symbol": "circle"
         },
         "mode": "markers+text",
         "name": "Wissam Ben Yedder",
         "orientation": "v",
         "showlegend": true,
         "text": [
          "Ben Yedder"
         ],
         "textposition": "top center",
         "type": "scatter",
         "x": [
          4
         ],
         "xaxis": "x",
         "y": [
          18
         ],
         "yaxis": "y"
        },
        {
         "hovertemplate": "Player=James Maddison<br>Assists=%{x}<br>Goals=%{y}<br>Name=%{text}<extra></extra>",
         "legendgroup": "James Maddison",
         "marker": {
          "color": "#EF553B",
          "symbol": "circle"
         },
         "mode": "markers+text",
         "name": "James Maddison",
         "orientation": "v",
         "showlegend": true,
         "text": [
          "Maddison"
         ],
         "textposition": "top center",
         "type": "scatter",
         "x": [
          3
         ],
         "xaxis": "x",
         "y": [
          6
         ],
         "yaxis": "y"
        },
        {
         "hovertemplate": "Player=Joshua Kimmich<br>Assists=%{x}<br>Goals=%{y}<br>Name=%{text}<extra></extra>",
         "legendgroup": "Joshua Kimmich",
         "marker": {
          "color": "#00cc96",
          "symbol": "circle"
         },
         "mode": "markers+text",
         "name": "Joshua Kimmich",
         "orientation": "v",
         "showlegend": true,
         "text": [
          "kimmich"
         ],
         "textposition": "top center",
         "type": "scatter",
         "x": [
          4
         ],
         "xaxis": "x",
         "y": [
          2
         ],
         "yaxis": "y"
        },
        {
         "hovertemplate": "Player=Marcus Rashford<br>Assists=%{x}<br>Goals=%{y}<br>Name=%{text}<extra></extra>",
         "legendgroup": "Marcus Rashford",
         "marker": {
          "color": "#ab63fa",
          "symbol": "circle"
         },
         "mode": "markers+text",
         "name": "Marcus Rashford",
         "orientation": "v",
         "showlegend": true,
         "text": [
          "Rashford"
         ],
         "textposition": "top center",
         "type": "scatter",
         "x": [
          4
         ],
         "xaxis": "x",
         "y": [
          14
         ],
         "yaxis": "y"
        },
        {
         "hovertemplate": "Player=Idrissa Gueye<br>Assists=%{x}<br>Goals=%{y}<br>Name=%{text}<extra></extra>",
         "legendgroup": "Idrissa Gueye",
         "marker": {
          "color": "#FFA15A",
          "symbol": "circle"
         },
         "mode": "markers+text",
         "name": "Idrissa Gueye",
         "orientation": "v",
         "showlegend": true,
         "text": [
          "Gueye"
         ],
         "textposition": "top center",
         "type": "scatter",
         "x": [
          2
         ],
         "xaxis": "x",
         "y": [
          1
         ],
         "yaxis": "y"
        },
        {
         "hovertemplate": "Player=Thomas Müller<br>Assists=%{x}<br>Goals=%{y}<br>Name=%{text}<extra></extra>",
         "legendgroup": "Thomas Müller",
         "marker": {
          "color": "#19d3f3",
          "symbol": "circle"
         },
         "mode": "markers+text",
         "name": "Thomas Müller",
         "orientation": "v",
         "showlegend": true,
         "text": [
          "Müller"
         ],
         "textposition": "top center",
         "type": "scatter",
         "x": [
          16
         ],
         "xaxis": "x",
         "y": [
          6
         ],
         "yaxis": "y"
        },
        {
         "hovertemplate": "Player=Jack Grealish<br>Assists=%{x}<br>Goals=%{y}<br>Name=%{text}<extra></extra>",
         "legendgroup": "Jack Grealish",
         "marker": {
          "color": "#FF6692",
          "symbol": "circle"
         },
         "mode": "markers+text",
         "name": "Jack Grealish",
         "orientation": "v",
         "showlegend": true,
         "text": [
          "Grealish"
         ],
         "textposition": "top center",
         "type": "scatter",
         "x": [
          6
         ],
         "xaxis": "x",
         "y": [
          7
         ],
         "yaxis": "y"
        },
        {
         "hovertemplate": "Player=Marcus Thuram<br>Assists=%{x}<br>Goals=%{y}<br>Name=%{text}<extra></extra>",
         "legendgroup": "Marcus Thuram",
         "marker": {
          "color": "#B6E880",
          "symbol": "circle"
         },
         "mode": "markers+text",
         "name": "Marcus Thuram",
         "orientation": "v",
         "showlegend": true,
         "text": [
          "Thuram"
         ],
         "textposition": "top center",
         "type": "scatter",
         "x": [
          8
         ],
         "xaxis": "x",
         "y": [
          6
         ],
         "yaxis": "y"
        },
        {
         "hovertemplate": "Player=Sergej Milinkovic-Savic<br>Assists=%{x}<br>Goals=%{y}<br>Name=%{text}<extra></extra>",
         "legendgroup": "Sergej Milinkovic-Savic",
         "marker": {
          "color": "#FF97FF",
          "symbol": "circle"
         },
         "mode": "markers+text",
         "name": "Sergej Milinkovic-Savic",
         "orientation": "v",
         "showlegend": true,
         "text": [
          "Milinkovic-Savic"
         ],
         "textposition": "top center",
         "type": "scatter",
         "x": [
          4
         ],
         "xaxis": "x",
         "y": [
          4
         ],
         "yaxis": "y"
        },
        {
         "hovertemplate": "Player=Gerard Moreno<br>Assists=%{x}<br>Goals=%{y}<br>Name=%{text}<extra></extra>",
         "legendgroup": "Gerard Moreno",
         "marker": {
          "color": "#FECB52",
          "symbol": "circle"
         },
         "mode": "markers+text",
         "name": "Gerard Moreno",
         "orientation": "v",
         "showlegend": true,
         "text": [
          " Moreno"
         ],
         "textposition": "top center",
         "type": "scatter",
         "x": [
          3
         ],
         "xaxis": "x",
         "y": [
          11
         ],
         "yaxis": "y"
        }
       ],
       "layout": {
        "legend": {
         "title": {
          "text": "Player"
         },
         "tracegroupgap": 0
        },
        "template": {
         "data": {
          "bar": [
           {
            "error_x": {
             "color": "#2a3f5f"
            },
            "error_y": {
             "color": "#2a3f5f"
            },
            "marker": {
             "line": {
              "color": "#E5ECF6",
              "width": 0.5
             },
             "pattern": {
              "fillmode": "overlay",
              "size": 10,
              "solidity": 0.2
             }
            },
            "type": "bar"
           }
          ],
          "barpolar": [
           {
            "marker": {
             "line": {
              "color": "#E5ECF6",
              "width": 0.5
             },
             "pattern": {
              "fillmode": "overlay",
              "size": 10,
              "solidity": 0.2
             }
            },
            "type": "barpolar"
           }
          ],
          "carpet": [
           {
            "aaxis": {
             "endlinecolor": "#2a3f5f",
             "gridcolor": "white",
             "linecolor": "white",
             "minorgridcolor": "white",
             "startlinecolor": "#2a3f5f"
            },
            "baxis": {
             "endlinecolor": "#2a3f5f",
             "gridcolor": "white",
             "linecolor": "white",
             "minorgridcolor": "white",
             "startlinecolor": "#2a3f5f"
            },
            "type": "carpet"
           }
          ],
          "choropleth": [
           {
            "colorbar": {
             "outlinewidth": 0,
             "ticks": ""
            },
            "type": "choropleth"
           }
          ],
          "contour": [
           {
            "colorbar": {
             "outlinewidth": 0,
             "ticks": ""
            },
            "colorscale": [
             [
              0,
              "#0d0887"
             ],
             [
              0.1111111111111111,
              "#46039f"
             ],
             [
              0.2222222222222222,
              "#7201a8"
             ],
             [
              0.3333333333333333,
              "#9c179e"
             ],
             [
              0.4444444444444444,
              "#bd3786"
             ],
             [
              0.5555555555555556,
              "#d8576b"
             ],
             [
              0.6666666666666666,
              "#ed7953"
             ],
             [
              0.7777777777777778,
              "#fb9f3a"
             ],
             [
              0.8888888888888888,
              "#fdca26"
             ],
             [
              1,
              "#f0f921"
             ]
            ],
            "type": "contour"
           }
          ],
          "contourcarpet": [
           {
            "colorbar": {
             "outlinewidth": 0,
             "ticks": ""
            },
            "type": "contourcarpet"
           }
          ],
          "heatmap": [
           {
            "colorbar": {
             "outlinewidth": 0,
             "ticks": ""
            },
            "colorscale": [
             [
              0,
              "#0d0887"
             ],
             [
              0.1111111111111111,
              "#46039f"
             ],
             [
              0.2222222222222222,
              "#7201a8"
             ],
             [
              0.3333333333333333,
              "#9c179e"
             ],
             [
              0.4444444444444444,
              "#bd3786"
             ],
             [
              0.5555555555555556,
              "#d8576b"
             ],
             [
              0.6666666666666666,
              "#ed7953"
             ],
             [
              0.7777777777777778,
              "#fb9f3a"
             ],
             [
              0.8888888888888888,
              "#fdca26"
             ],
             [
              1,
              "#f0f921"
             ]
            ],
            "type": "heatmap"
           }
          ],
          "heatmapgl": [
           {
            "colorbar": {
             "outlinewidth": 0,
             "ticks": ""
            },
            "colorscale": [
             [
              0,
              "#0d0887"
             ],
             [
              0.1111111111111111,
              "#46039f"
             ],
             [
              0.2222222222222222,
              "#7201a8"
             ],
             [
              0.3333333333333333,
              "#9c179e"
             ],
             [
              0.4444444444444444,
              "#bd3786"
             ],
             [
              0.5555555555555556,
              "#d8576b"
             ],
             [
              0.6666666666666666,
              "#ed7953"
             ],
             [
              0.7777777777777778,
              "#fb9f3a"
             ],
             [
              0.8888888888888888,
              "#fdca26"
             ],
             [
              1,
              "#f0f921"
             ]
            ],
            "type": "heatmapgl"
           }
          ],
          "histogram": [
           {
            "marker": {
             "pattern": {
              "fillmode": "overlay",
              "size": 10,
              "solidity": 0.2
             }
            },
            "type": "histogram"
           }
          ],
          "histogram2d": [
           {
            "colorbar": {
             "outlinewidth": 0,
             "ticks": ""
            },
            "colorscale": [
             [
              0,
              "#0d0887"
             ],
             [
              0.1111111111111111,
              "#46039f"
             ],
             [
              0.2222222222222222,
              "#7201a8"
             ],
             [
              0.3333333333333333,
              "#9c179e"
             ],
             [
              0.4444444444444444,
              "#bd3786"
             ],
             [
              0.5555555555555556,
              "#d8576b"
             ],
             [
              0.6666666666666666,
              "#ed7953"
             ],
             [
              0.7777777777777778,
              "#fb9f3a"
             ],
             [
              0.8888888888888888,
              "#fdca26"
             ],
             [
              1,
              "#f0f921"
             ]
            ],
            "type": "histogram2d"
           }
          ],
          "histogram2dcontour": [
           {
            "colorbar": {
             "outlinewidth": 0,
             "ticks": ""
            },
            "colorscale": [
             [
              0,
              "#0d0887"
             ],
             [
              0.1111111111111111,
              "#46039f"
             ],
             [
              0.2222222222222222,
              "#7201a8"
             ],
             [
              0.3333333333333333,
              "#9c179e"
             ],
             [
              0.4444444444444444,
              "#bd3786"
             ],
             [
              0.5555555555555556,
              "#d8576b"
             ],
             [
              0.6666666666666666,
              "#ed7953"
             ],
             [
              0.7777777777777778,
              "#fb9f3a"
             ],
             [
              0.8888888888888888,
              "#fdca26"
             ],
             [
              1,
              "#f0f921"
             ]
            ],
            "type": "histogram2dcontour"
           }
          ],
          "mesh3d": [
           {
            "colorbar": {
             "outlinewidth": 0,
             "ticks": ""
            },
            "type": "mesh3d"
           }
          ],
          "parcoords": [
           {
            "line": {
             "colorbar": {
              "outlinewidth": 0,
              "ticks": ""
             }
            },
            "type": "parcoords"
           }
          ],
          "pie": [
           {
            "automargin": true,
            "type": "pie"
           }
          ],
          "scatter": [
           {
            "fillpattern": {
             "fillmode": "overlay",
             "size": 10,
             "solidity": 0.2
            },
            "type": "scatter"
           }
          ],
          "scatter3d": [
           {
            "line": {
             "colorbar": {
              "outlinewidth": 0,
              "ticks": ""
             }
            },
            "marker": {
             "colorbar": {
              "outlinewidth": 0,
              "ticks": ""
             }
            },
            "type": "scatter3d"
           }
          ],
          "scattercarpet": [
           {
            "marker": {
             "colorbar": {
              "outlinewidth": 0,
              "ticks": ""
             }
            },
            "type": "scattercarpet"
           }
          ],
          "scattergeo": [
           {
            "marker": {
             "colorbar": {
              "outlinewidth": 0,
              "ticks": ""
             }
            },
            "type": "scattergeo"
           }
          ],
          "scattergl": [
           {
            "marker": {
             "colorbar": {
              "outlinewidth": 0,
              "ticks": ""
             }
            },
            "type": "scattergl"
           }
          ],
          "scattermapbox": [
           {
            "marker": {
             "colorbar": {
              "outlinewidth": 0,
              "ticks": ""
             }
            },
            "type": "scattermapbox"
           }
          ],
          "scatterpolar": [
           {
            "marker": {
             "colorbar": {
              "outlinewidth": 0,
              "ticks": ""
             }
            },
            "type": "scatterpolar"
           }
          ],
          "scatterpolargl": [
           {
            "marker": {
             "colorbar": {
              "outlinewidth": 0,
              "ticks": ""
             }
            },
            "type": "scatterpolargl"
           }
          ],
          "scatterternary": [
           {
            "marker": {
             "colorbar": {
              "outlinewidth": 0,
              "ticks": ""
             }
            },
            "type": "scatterternary"
           }
          ],
          "surface": [
           {
            "colorbar": {
             "outlinewidth": 0,
             "ticks": ""
            },
            "colorscale": [
             [
              0,
              "#0d0887"
             ],
             [
              0.1111111111111111,
              "#46039f"
             ],
             [
              0.2222222222222222,
              "#7201a8"
             ],
             [
              0.3333333333333333,
              "#9c179e"
             ],
             [
              0.4444444444444444,
              "#bd3786"
             ],
             [
              0.5555555555555556,
              "#d8576b"
             ],
             [
              0.6666666666666666,
              "#ed7953"
             ],
             [
              0.7777777777777778,
              "#fb9f3a"
             ],
             [
              0.8888888888888888,
              "#fdca26"
             ],
             [
              1,
              "#f0f921"
             ]
            ],
            "type": "surface"
           }
          ],
          "table": [
           {
            "cells": {
             "fill": {
              "color": "#EBF0F8"
             },
             "line": {
              "color": "white"
             }
            },
            "header": {
             "fill": {
              "color": "#C8D4E3"
             },
             "line": {
              "color": "white"
             }
            },
            "type": "table"
           }
          ]
         },
         "layout": {
          "annotationdefaults": {
           "arrowcolor": "#2a3f5f",
           "arrowhead": 0,
           "arrowwidth": 1
          },
          "autotypenumbers": "strict",
          "coloraxis": {
           "colorbar": {
            "outlinewidth": 0,
            "ticks": ""
           }
          },
          "colorscale": {
           "diverging": [
            [
             0,
             "#8e0152"
            ],
            [
             0.1,
             "#c51b7d"
            ],
            [
             0.2,
             "#de77ae"
            ],
            [
             0.3,
             "#f1b6da"
            ],
            [
             0.4,
             "#fde0ef"
            ],
            [
             0.5,
             "#f7f7f7"
            ],
            [
             0.6,
             "#e6f5d0"
            ],
            [
             0.7,
             "#b8e186"
            ],
            [
             0.8,
             "#7fbc41"
            ],
            [
             0.9,
             "#4d9221"
            ],
            [
             1,
             "#276419"
            ]
           ],
           "sequential": [
            [
             0,
             "#0d0887"
            ],
            [
             0.1111111111111111,
             "#46039f"
            ],
            [
             0.2222222222222222,
             "#7201a8"
            ],
            [
             0.3333333333333333,
             "#9c179e"
            ],
            [
             0.4444444444444444,
             "#bd3786"
            ],
            [
             0.5555555555555556,
             "#d8576b"
            ],
            [
             0.6666666666666666,
             "#ed7953"
            ],
            [
             0.7777777777777778,
             "#fb9f3a"
            ],
            [
             0.8888888888888888,
             "#fdca26"
            ],
            [
             1,
             "#f0f921"
            ]
           ],
           "sequentialminus": [
            [
             0,
             "#0d0887"
            ],
            [
             0.1111111111111111,
             "#46039f"
            ],
            [
             0.2222222222222222,
             "#7201a8"
            ],
            [
             0.3333333333333333,
             "#9c179e"
            ],
            [
             0.4444444444444444,
             "#bd3786"
            ],
            [
             0.5555555555555556,
             "#d8576b"
            ],
            [
             0.6666666666666666,
             "#ed7953"
            ],
            [
             0.7777777777777778,
             "#fb9f3a"
            ],
            [
             0.8888888888888888,
             "#fdca26"
            ],
            [
             1,
             "#f0f921"
            ]
           ]
          },
          "colorway": [
           "#636efa",
           "#EF553B",
           "#00cc96",
           "#ab63fa",
           "#FFA15A",
           "#19d3f3",
           "#FF6692",
           "#B6E880",
           "#FF97FF",
           "#FECB52"
          ],
          "font": {
           "color": "#2a3f5f"
          },
          "geo": {
           "bgcolor": "white",
           "lakecolor": "white",
           "landcolor": "#E5ECF6",
           "showlakes": true,
           "showland": true,
           "subunitcolor": "white"
          },
          "hoverlabel": {
           "align": "left"
          },
          "hovermode": "closest",
          "mapbox": {
           "style": "light"
          },
          "paper_bgcolor": "white",
          "plot_bgcolor": "#E5ECF6",
          "polar": {
           "angularaxis": {
            "gridcolor": "white",
            "linecolor": "white",
            "ticks": ""
           },
           "bgcolor": "#E5ECF6",
           "radialaxis": {
            "gridcolor": "white",
            "linecolor": "white",
            "ticks": ""
           }
          },
          "scene": {
           "xaxis": {
            "backgroundcolor": "#E5ECF6",
            "gridcolor": "white",
            "gridwidth": 2,
            "linecolor": "white",
            "showbackground": true,
            "ticks": "",
            "zerolinecolor": "white"
           },
           "yaxis": {
            "backgroundcolor": "#E5ECF6",
            "gridcolor": "white",
            "gridwidth": 2,
            "linecolor": "white",
            "showbackground": true,
            "ticks": "",
            "zerolinecolor": "white"
           },
           "zaxis": {
            "backgroundcolor": "#E5ECF6",
            "gridcolor": "white",
            "gridwidth": 2,
            "linecolor": "white",
            "showbackground": true,
            "ticks": "",
            "zerolinecolor": "white"
           }
          },
          "shapedefaults": {
           "line": {
            "color": "#2a3f5f"
           }
          },
          "ternary": {
           "aaxis": {
            "gridcolor": "white",
            "linecolor": "white",
            "ticks": ""
           },
           "baxis": {
            "gridcolor": "white",
            "linecolor": "white",
            "ticks": ""
           },
           "bgcolor": "#E5ECF6",
           "caxis": {
            "gridcolor": "white",
            "linecolor": "white",
            "ticks": ""
           }
          },
          "title": {
           "x": 0.05
          },
          "xaxis": {
           "automargin": true,
           "gridcolor": "white",
           "linecolor": "white",
           "ticks": "",
           "title": {
            "standoff": 15
           },
           "zerolinecolor": "white",
           "zerolinewidth": 2
          },
          "yaxis": {
           "automargin": true,
           "gridcolor": "white",
           "linecolor": "white",
           "ticks": "",
           "title": {
            "standoff": 15
           },
           "zerolinecolor": "white",
           "zerolinewidth": 2
          }
         }
        },
        "title": {
         "text": "Goals Vs Assists"
        },
        "xaxis": {
         "anchor": "y",
         "domain": [
          0,
          1
         ],
         "title": {
          "text": "Assists"
         }
        },
        "yaxis": {
         "anchor": "x",
         "domain": [
          0,
          1
         ],
         "title": {
          "text": "Goals"
         }
        }
       }
      }
     },
     "metadata": {},
     "output_type": "display_data"
    }
   ],
   "source": [
    "fig = px.scatter(df,x=\"Assists\",y=\"Goals\",color=\"Player\",text=\"Name\",title=\"Goals Vs Assists\")\n",
    "fig.update_traces(textposition='top center')\n",
    "fig.show()"
   ]
  },
  {
   "attachments": {},
   "cell_type": "markdown",
   "metadata": {},
   "source": [
    "\n",
    "\n",
    "3D plot for Drbbile, Key Pass and Shot per Game\n"
   ]
  },
  {
   "cell_type": "code",
   "execution_count": 7,
   "metadata": {},
   "outputs": [
    {
     "data": {
      "application/vnd.plotly.v1+json": {
       "config": {
        "plotlyServerURL": "https://plot.ly"
       },
       "data": [
        {
         "hovertemplate": "Player=Lionel Messi<br>Drb=%{x}<br>Key Pass=%{y}<br>Shot per Game=%{z}<br>Name=%{text}<extra></extra>",
         "legendgroup": "Lionel Messi",
         "marker": {
          "color": "#636efa",
          "symbol": "circle"
         },
         "mode": "markers+text",
         "name": "Lionel Messi",
         "scene": "scene",
         "showlegend": true,
         "text": [
          "Messi"
         ],
         "textposition": "top center",
         "type": "scatter3d",
         "x": [
          5.4
         ],
         "y": [
          2.5
         ],
         "z": [
          4.8
         ]
        },
        {
         "hovertemplate": "Player=Cristiano Ronaldo<br>Drb=%{x}<br>Key Pass=%{y}<br>Shot per Game=%{z}<br>Name=%{text}<extra></extra>",
         "legendgroup": "Cristiano Ronaldo",
         "marker": {
          "color": "#EF553B",
          "symbol": "circle"
         },
         "mode": "markers+text",
         "name": "Cristiano Ronaldo",
         "scene": "scene",
         "showlegend": true,
         "text": [
          "Ronaldo"
         ],
         "textposition": "top center",
         "type": "scatter3d",
         "x": [
          1.8
         ],
         "y": [
          1.7
         ],
         "z": [
          5.9
         ]
        },
        {
         "hovertemplate": "Player=Robert Lewandowski<br>Drb=%{x}<br>Key Pass=%{y}<br>Shot per Game=%{z}<br>Name=%{text}<extra></extra>",
         "legendgroup": "Robert Lewandowski",
         "marker": {
          "color": "#00cc96",
          "symbol": "circle"
         },
         "mode": "markers+text",
         "name": "Robert Lewandowski",
         "scene": "scene",
         "showlegend": true,
         "text": [
          " Lewandowski"
         ],
         "textposition": "top center",
         "type": "scatter3d",
         "x": [
          2.1
         ],
         "y": [
          1.2
         ],
         "z": [
          4.7
         ]
        },
        {
         "hovertemplate": "Player=Kylian Mbappé<br>Drb=%{x}<br>Key Pass=%{y}<br>Shot per Game=%{z}<br>Name=%{text}<extra></extra>",
         "legendgroup": "Kylian Mbappé",
         "marker": {
          "color": "#ab63fa",
          "symbol": "circle"
         },
         "mode": "markers+text",
         "name": "Kylian Mbappé",
         "scene": "scene",
         "showlegend": true,
         "text": [
          "Mbappé"
         ],
         "textposition": "top center",
         "type": "scatter3d",
         "x": [
          2.8
         ],
         "y": [
          2
         ],
         "z": [
          4.4
         ]
        },
        {
         "hovertemplate": "Player=Josip Ilicic<br>Drb=%{x}<br>Key Pass=%{y}<br>Shot per Game=%{z}<br>Name=%{text}<extra></extra>",
         "legendgroup": "Josip Ilicic",
         "marker": {
          "color": "#FFA15A",
          "symbol": "circle"
         },
         "mode": "markers+text",
         "name": "Josip Ilicic",
         "scene": "scene",
         "showlegend": true,
         "text": [
          " Ilicic"
         ],
         "textposition": "top center",
         "type": "scatter3d",
         "x": [
          2.6
         ],
         "y": [
          2.5
         ],
         "z": [
          3.6
         ]
        },
        {
         "hovertemplate": "Player=Kevin De Bruyne<br>Drb=%{x}<br>Key Pass=%{y}<br>Shot per Game=%{z}<br>Name=%{text}<extra></extra>",
         "legendgroup": "Kevin De Bruyne",
         "marker": {
          "color": "#19d3f3",
          "symbol": "circle"
         },
         "mode": "markers+text",
         "name": "Kevin De Bruyne",
         "scene": "scene",
         "showlegend": true,
         "text": [
          "De Bruyne"
         ],
         "textposition": "top center",
         "type": "scatter3d",
         "x": [
          1.4
         ],
         "y": [
          3.7
         ],
         "z": [
          2.9
         ]
        },
        {
         "hovertemplate": "Player=Neymar<br>Drb=%{x}<br>Key Pass=%{y}<br>Shot per Game=%{z}<br>Name=%{text}<extra></extra>",
         "legendgroup": "Neymar",
         "marker": {
          "color": "#FF6692",
          "symbol": "circle"
         },
         "mode": "markers+text",
         "name": "Neymar",
         "scene": "scene",
         "showlegend": true,
         "text": [
          "Neymar"
         ],
         "textposition": "top center",
         "type": "scatter3d",
         "x": [
          6
         ],
         "y": [
          2.6
         ],
         "z": [
          4.7
         ]
        },
        {
         "hovertemplate": "Player=Jadon Sancho<br>Drb=%{x}<br>Key Pass=%{y}<br>Shot per Game=%{z}<br>Name=%{text}<extra></extra>",
         "legendgroup": "Jadon Sancho",
         "marker": {
          "color": "#B6E880",
          "symbol": "circle"
         },
         "mode": "markers+text",
         "name": "Jadon Sancho",
         "scene": "scene",
         "showlegend": true,
         "text": [
          "Sancho"
         ],
         "textposition": "top center",
         "type": "scatter3d",
         "x": [
          2.6
         ],
         "y": [
          2.3
         ],
         "z": [
          2
         ]
        },
        {
         "hovertemplate": "Player=Ángel Di María<br>Drb=%{x}<br>Key Pass=%{y}<br>Shot per Game=%{z}<br>Name=%{text}<extra></extra>",
         "legendgroup": "Ángel Di María",
         "marker": {
          "color": "#FF97FF",
          "symbol": "circle"
         },
         "mode": "markers+text",
         "name": "Ángel Di María",
         "scene": "scene",
         "showlegend": true,
         "text": [
          "Di María"
         ],
         "textposition": "top center",
         "type": "scatter3d",
         "x": [
          2.6
         ],
         "y": [
          3
         ],
         "z": [
          2.8
         ]
        },
        {
         "hovertemplate": "Player=Dimitri Payet<br>Drb=%{x}<br>Key Pass=%{y}<br>Shot per Game=%{z}<br>Name=%{text}<extra></extra>",
         "legendgroup": "Dimitri Payet",
         "marker": {
          "color": "#FECB52",
          "symbol": "circle"
         },
         "mode": "markers+text",
         "name": "Dimitri Payet",
         "scene": "scene",
         "showlegend": true,
         "text": [
          "Payet"
         ],
         "textposition": "top center",
         "type": "scatter3d",
         "x": [
          2.3
         ],
         "y": [
          4
         ],
         "z": [
          2.9
         ]
        },
        {
         "hovertemplate": "Player=Ciro Immobile<br>Drb=%{x}<br>Key Pass=%{y}<br>Shot per Game=%{z}<br>Name=%{text}<extra></extra>",
         "legendgroup": "Ciro Immobile",
         "marker": {
          "color": "#636efa",
          "symbol": "circle"
         },
         "mode": "markers+text",
         "name": "Ciro Immobile",
         "scene": "scene",
         "showlegend": true,
         "text": [
          "Immobile"
         ],
         "textposition": "top center",
         "type": "scatter3d",
         "x": [
          0.7
         ],
         "y": [
          1.8
         ],
         "z": [
          3.9
         ]
        },
        {
         "hovertemplate": "Player=Luis Alberto<br>Drb=%{x}<br>Key Pass=%{y}<br>Shot per Game=%{z}<br>Name=%{text}<extra></extra>",
         "legendgroup": "Luis Alberto",
         "marker": {
          "color": "#EF553B",
          "symbol": "circle"
         },
         "mode": "markers+text",
         "name": "Luis Alberto",
         "scene": "scene",
         "showlegend": true,
         "text": [
          "Alberto"
         ],
         "textposition": "top center",
         "type": "scatter3d",
         "x": [
          2.1
         ],
         "y": [
          3
         ],
         "z": [
          2.8
         ]
        },
        {
         "hovertemplate": "Player=Adama Traoré<br>Drb=%{x}<br>Key Pass=%{y}<br>Shot per Game=%{z}<br>Name=%{text}<extra></extra>",
         "legendgroup": "Adama Traoré",
         "marker": {
          "color": "#00cc96",
          "symbol": "circle"
         },
         "mode": "markers+text",
         "name": "Adama Traoré",
         "scene": "scene",
         "showlegend": true,
         "text": [
          "Traoré"
         ],
         "textposition": "top center",
         "type": "scatter3d",
         "x": [
          5.2
         ],
         "y": [
          1.4
         ],
         "z": [
          1.2
         ]
        },
        {
         "hovertemplate": "Player=Serge Gnabry<br>Drb=%{x}<br>Key Pass=%{y}<br>Shot per Game=%{z}<br>Name=%{text}<extra></extra>",
         "legendgroup": "Serge Gnabry",
         "marker": {
          "color": "#ab63fa",
          "symbol": "circle"
         },
         "mode": "markers+text",
         "name": "Serge Gnabry",
         "scene": "scene",
         "showlegend": true,
         "text": [
          "Gnabry"
         ],
         "textposition": "top center",
         "type": "scatter3d",
         "x": [
          1.8
         ],
         "y": [
          1.9
         ],
         "z": [
          3.3
         ]
        },
        {
         "hovertemplate": "Player=Riyad Mahrez<br>Drb=%{x}<br>Key Pass=%{y}<br>Shot per Game=%{z}<br>Name=%{text}<extra></extra>",
         "legendgroup": "Riyad Mahrez",
         "marker": {
          "color": "#FFA15A",
          "symbol": "circle"
         },
         "mode": "markers+text",
         "name": "Riyad Mahrez",
         "scene": "scene",
         "showlegend": true,
         "text": [
          "Mahrez"
         ],
         "textposition": "top center",
         "type": "scatter3d",
         "x": [
          1.7
         ],
         "y": [
          2
         ],
         "z": [
          2.3
         ]
        },
        {
         "hovertemplate": "Player=Timo Werner<br>Drb=%{x}<br>Key Pass=%{y}<br>Shot per Game=%{z}<br>Name=%{text}<extra></extra>",
         "legendgroup": "Timo Werner",
         "marker": {
          "color": "#19d3f3",
          "symbol": "circle"
         },
         "mode": "markers+text",
         "name": "Timo Werner",
         "scene": "scene",
         "showlegend": true,
         "text": [
          "Werner"
         ],
         "textposition": "top center",
         "type": "scatter3d",
         "x": [
          1.8
         ],
         "y": [
          1.4
         ],
         "z": [
          3.8
         ]
        },
        {
         "hovertemplate": "Player=Duván Zapata<br>Drb=%{x}<br>Key Pass=%{y}<br>Shot per Game=%{z}<br>Name=%{text}<extra></extra>",
         "legendgroup": "Duván Zapata",
         "marker": {
          "color": "#FF6692",
          "symbol": "circle"
         },
         "mode": "markers+text",
         "name": "Duván Zapata",
         "scene": "scene",
         "showlegend": true,
         "text": [
          "Zapata"
         ],
         "textposition": "top center",
         "type": "scatter3d",
         "x": [
          0.7
         ],
         "y": [
          1.3
         ],
         "z": [
          3.5
         ]
        },
        {
         "hovertemplate": "Player=Luis Suárez<br>Drb=%{x}<br>Key Pass=%{y}<br>Shot per Game=%{z}<br>Name=%{text}<extra></extra>",
         "legendgroup": "Luis Suárez",
         "marker": {
          "color": "#B6E880",
          "symbol": "circle"
         },
         "mode": "markers+text",
         "name": "Luis Suárez",
         "scene": "scene",
         "showlegend": true,
         "text": [
          "Suárez"
         ],
         "textposition": "top center",
         "type": "scatter3d",
         "x": [
          1.1
         ],
         "y": [
          1.1
         ],
         "z": [
          3.1
         ]
        },
        {
         "hovertemplate": "Player=Filip Kostic<br>Drb=%{x}<br>Key Pass=%{y}<br>Shot per Game=%{z}<br>Name=%{text}<extra></extra>",
         "legendgroup": "Filip Kostic",
         "marker": {
          "color": "#FF97FF",
          "symbol": "circle"
         },
         "mode": "markers+text",
         "name": "Filip Kostic",
         "scene": "scene",
         "showlegend": true,
         "text": [
          "Kostic"
         ],
         "textposition": "top center",
         "type": "scatter3d",
         "x": [
          2.9
         ],
         "y": [
          2.6
         ],
         "z": [
          2.7
         ]
        },
        {
         "hovertemplate": "Player=Thiago<br>Drb=%{x}<br>Key Pass=%{y}<br>Shot per Game=%{z}<br>Name=%{text}<extra></extra>",
         "legendgroup": "Thiago",
         "marker": {
          "color": "#FECB52",
          "symbol": "circle"
         },
         "mode": "markers+text",
         "name": "Thiago",
         "scene": "scene",
         "showlegend": true,
         "text": [
          "Thiago"
         ],
         "textposition": "top center",
         "type": "scatter3d",
         "x": [
          3
         ],
         "y": [
          0.9
         ],
         "z": [
          0.8
         ]
        },
        {
         "hovertemplate": "Player=Casemiro<br>Drb=%{x}<br>Key Pass=%{y}<br>Shot per Game=%{z}<br>Name=%{text}<extra></extra>",
         "legendgroup": "Casemiro",
         "marker": {
          "color": "#636efa",
          "symbol": "circle"
         },
         "mode": "markers+text",
         "name": "Casemiro",
         "scene": "scene",
         "showlegend": true,
         "text": [
          "Casemiro"
         ],
         "textposition": "top center",
         "type": "scatter3d",
         "x": [
          0.8
         ],
         "y": [
          0.4
         ],
         "z": [
          1.4
         ]
        },
        {
         "hovertemplate": "Player=Alphonso Davies<br>Drb=%{x}<br>Key Pass=%{y}<br>Shot per Game=%{z}<br>Name=%{text}<extra></extra>",
         "legendgroup": "Alphonso Davies",
         "marker": {
          "color": "#EF553B",
          "symbol": "circle"
         },
         "mode": "markers+text",
         "name": "Alphonso Davies",
         "scene": "scene",
         "showlegend": true,
         "text": [
          "Davies"
         ],
         "textposition": "top center",
         "type": "scatter3d",
         "x": [
          3
         ],
         "y": [
          1.3
         ],
         "z": [
          0.5
         ]
        },
        {
         "hovertemplate": "Player=Christopher Nkunku<br>Drb=%{x}<br>Key Pass=%{y}<br>Shot per Game=%{z}<br>Name=%{text}<extra></extra>",
         "legendgroup": "Christopher Nkunku",
         "marker": {
          "color": "#00cc96",
          "symbol": "circle"
         },
         "mode": "markers+text",
         "name": "Christopher Nkunku",
         "scene": "scene",
         "showlegend": true,
         "text": [
          "Nkunku"
         ],
         "textposition": "top center",
         "type": "scatter3d",
         "x": [
          1.8
         ],
         "y": [
          2.8
         ],
         "z": [
          1.7
         ]
        },
        {
         "hovertemplate": "Player=Alejandro Gómez<br>Drb=%{x}<br>Key Pass=%{y}<br>Shot per Game=%{z}<br>Name=%{text}<extra></extra>",
         "legendgroup": "Alejandro Gómez",
         "marker": {
          "color": "#ab63fa",
          "symbol": "circle"
         },
         "mode": "markers+text",
         "name": "Alejandro Gómez",
         "scene": "scene",
         "showlegend": true,
         "text": [
          " Gómez"
         ],
         "textposition": "top center",
         "type": "scatter3d",
         "x": [
          1.8
         ],
         "y": [
          2.7
         ],
         "z": [
          2.9
         ]
        },
        {
         "hovertemplate": "Player=Edin Dzeko<br>Drb=%{x}<br>Key Pass=%{y}<br>Shot per Game=%{z}<br>Name=%{text}<extra></extra>",
         "legendgroup": "Edin Dzeko",
         "marker": {
          "color": "#FFA15A",
          "symbol": "circle"
         },
         "mode": "markers+text",
         "name": "Edin Dzeko",
         "scene": "scene",
         "showlegend": true,
         "text": [
          "Dzeko"
         ],
         "textposition": "top center",
         "type": "scatter3d",
         "x": [
          1.2
         ],
         "y": [
          1.4
         ],
         "z": [
          3.7
         ]
        },
        {
         "hovertemplate": "Player=Marco Reus<br>Drb=%{x}<br>Key Pass=%{y}<br>Shot per Game=%{z}<br>Name=%{text}<extra></extra>",
         "legendgroup": "Marco Reus",
         "marker": {
          "color": "#19d3f3",
          "symbol": "circle"
         },
         "mode": "markers+text",
         "name": "Marco Reus",
         "scene": "scene",
         "showlegend": true,
         "text": [
          "Reus"
         ],
         "textposition": "top center",
         "type": "scatter3d",
         "x": [
          1.4
         ],
         "y": [
          1.2
         ],
         "z": [
          2.5
         ]
        },
        {
         "hovertemplate": "Player=Ricardo Pereira<br>Drb=%{x}<br>Key Pass=%{y}<br>Shot per Game=%{z}<br>Name=%{text}<extra></extra>",
         "legendgroup": "Ricardo Pereira",
         "marker": {
          "color": "#FF6692",
          "symbol": "circle"
         },
         "mode": "markers+text",
         "name": "Ricardo Pereira",
         "scene": "scene",
         "showlegend": true,
         "text": [
          "Pereira"
         ],
         "textposition": "top center",
         "type": "scatter3d",
         "x": [
          2.1
         ],
         "y": [
          1
         ],
         "z": [
          0.6
         ]
        },
        {
         "hovertemplate": "Player=Sadio Mané<br>Drb=%{x}<br>Key Pass=%{y}<br>Shot per Game=%{z}<br>Name=%{text}<extra></extra>",
         "legendgroup": "Sadio Mané",
         "marker": {
          "color": "#B6E880",
          "symbol": "circle"
         },
         "mode": "markers+text",
         "name": "Sadio Mané",
         "scene": "scene",
         "showlegend": true,
         "text": [
          "Mané"
         ],
         "textposition": "top center",
         "type": "scatter3d",
         "x": [
          1.9
         ],
         "y": [
          1.6
         ],
         "z": [
          2.3
         ]
        },
        {
         "hovertemplate": "Player=Domenico Berardi<br>Drb=%{x}<br>Key Pass=%{y}<br>Shot per Game=%{z}<br>Name=%{text}<extra></extra>",
         "legendgroup": "Domenico Berardi",
         "marker": {
          "color": "#FF97FF",
          "symbol": "circle"
         },
         "mode": "markers+text",
         "name": "Domenico Berardi",
         "scene": "scene",
         "showlegend": true,
         "text": [
          "Berardi"
         ],
         "textposition": "top center",
         "type": "scatter3d",
         "x": [
          1.4
         ],
         "y": [
          1.7
         ],
         "z": [
          4.1
         ]
        },
        {
         "hovertemplate": "Player=Mohamed Salah<br>Drb=%{x}<br>Key Pass=%{y}<br>Shot per Game=%{z}<br>Name=%{text}<extra></extra>",
         "legendgroup": "Mohamed Salah",
         "marker": {
          "color": "#FECB52",
          "symbol": "circle"
         },
         "mode": "markers+text",
         "name": "Mohamed Salah",
         "scene": "scene",
         "showlegend": true,
         "text": [
          "Salah"
         ],
         "textposition": "top center",
         "type": "scatter3d",
         "x": [
          1.7
         ],
         "y": [
          1.8
         ],
         "z": [
          3.8
         ]
        },
        {
         "hovertemplate": "Player=Téji Savanier<br>Drb=%{x}<br>Key Pass=%{y}<br>Shot per Game=%{z}<br>Name=%{text}<extra></extra>",
         "legendgroup": "Téji Savanier",
         "marker": {
          "color": "#636efa",
          "symbol": "circle"
         },
         "mode": "markers+text",
         "name": "Téji Savanier",
         "scene": "scene",
         "showlegend": true,
         "text": [
          "Savanier"
         ],
         "textposition": "top center",
         "type": "scatter3d",
         "x": [
          1.7
         ],
         "y": [
          1.5
         ],
         "z": [
          1.6
         ]
        },
        {
         "hovertemplate": "Player=Romelu Lukaku<br>Drb=%{x}<br>Key Pass=%{y}<br>Shot per Game=%{z}<br>Name=%{text}<extra></extra>",
         "legendgroup": "Romelu Lukaku",
         "marker": {
          "color": "#EF553B",
          "symbol": "circle"
         },
         "mode": "markers+text",
         "name": "Romelu Lukaku",
         "scene": "scene",
         "showlegend": true,
         "text": [
          "Lukaku"
         ],
         "textposition": "top center",
         "type": "scatter3d",
         "x": [
          0.6
         ],
         "y": [
          1.4
         ],
         "z": [
          2.9
         ]
        },
        {
         "hovertemplate": "Player=Suat Serdar<br>Drb=%{x}<br>Key Pass=%{y}<br>Shot per Game=%{z}<br>Name=%{text}<extra></extra>",
         "legendgroup": "Suat Serdar",
         "marker": {
          "color": "#00cc96",
          "symbol": "circle"
         },
         "mode": "markers+text",
         "name": "Suat Serdar",
         "scene": "scene",
         "showlegend": true,
         "text": [
          "Serdar"
         ],
         "textposition": "top center",
         "type": "scatter3d",
         "x": [
          2.7
         ],
         "y": [
          0.6
         ],
         "z": [
          1.8
         ]
        },
        {
         "hovertemplate": "Player=Nabil Fekir<br>Drb=%{x}<br>Key Pass=%{y}<br>Shot per Game=%{z}<br>Name=%{text}<extra></extra>",
         "legendgroup": "Nabil Fekir",
         "marker": {
          "color": "#ab63fa",
          "symbol": "circle"
         },
         "mode": "markers+text",
         "name": "Nabil Fekir",
         "scene": "scene",
         "showlegend": true,
         "text": [
          "Fekir"
         ],
         "textposition": "top center",
         "type": "scatter3d",
         "x": [
          3.3
         ],
         "y": [
          1.1
         ],
         "z": [
          3.3
         ]
        },
        {
         "hovertemplate": "Player=Karim Benzema<br>Drb=%{x}<br>Key Pass=%{y}<br>Shot per Game=%{z}<br>Name=%{text}<extra></extra>",
         "legendgroup": "Karim Benzema",
         "marker": {
          "color": "#FFA15A",
          "symbol": "circle"
         },
         "mode": "markers+text",
         "name": "Karim Benzema",
         "scene": "scene",
         "showlegend": true,
         "text": [
          "Benzema"
         ],
         "textposition": "top center",
         "type": "scatter3d",
         "x": [
          1
         ],
         "y": [
          1.7
         ],
         "z": [
          3.7
         ]
        },
        {
         "hovertemplate": "Player=Paulo Dybala<br>Drb=%{x}<br>Key Pass=%{y}<br>Shot per Game=%{z}<br>Name=%{text}<extra></extra>",
         "legendgroup": "Paulo Dybala",
         "marker": {
          "color": "#19d3f3",
          "symbol": "circle"
         },
         "mode": "markers+text",
         "name": "Paulo Dybala",
         "scene": "scene",
         "showlegend": true,
         "text": [
          "Dybala"
         ],
         "textposition": "top center",
         "type": "scatter3d",
         "x": [
          1.9
         ],
         "y": [
          2
         ],
         "z": [
          3.1
         ]
        },
        {
         "hovertemplate": "Player=Raphael Guerreiro<br>Drb=%{x}<br>Key Pass=%{y}<br>Shot per Game=%{z}<br>Name=%{text}<extra></extra>",
         "legendgroup": "Raphael Guerreiro",
         "marker": {
          "color": "#FF6692",
          "symbol": "circle"
         },
         "mode": "markers+text",
         "name": "Raphael Guerreiro",
         "scene": "scene",
         "showlegend": true,
         "text": [
          "Guerreiro"
         ],
         "textposition": "top center",
         "type": "scatter3d",
         "x": [
          1.5
         ],
         "y": [
          1.2
         ],
         "z": [
          1.4
         ]
        },
        {
         "hovertemplate": "Player=Wilfred Ndidi<br>Drb=%{x}<br>Key Pass=%{y}<br>Shot per Game=%{z}<br>Name=%{text}<extra></extra>",
         "legendgroup": "Wilfred Ndidi",
         "marker": {
          "color": "#B6E880",
          "symbol": "circle"
         },
         "mode": "markers+text",
         "name": "Wilfred Ndidi",
         "scene": "scene",
         "showlegend": true,
         "text": [
          "Ndidi"
         ],
         "textposition": "top center",
         "type": "scatter3d",
         "x": [
          0.7
         ],
         "y": [
          0.5
         ],
         "z": [
          0.8
         ]
        },
        {
         "hovertemplate": "Player=Achraf Hakimi<br>Drb=%{x}<br>Key Pass=%{y}<br>Shot per Game=%{z}<br>Name=%{text}<extra></extra>",
         "legendgroup": "Achraf Hakimi",
         "marker": {
          "color": "#FF97FF",
          "symbol": "circle"
         },
         "mode": "markers+text",
         "name": "Achraf Hakimi",
         "scene": "scene",
         "showlegend": true,
         "text": [
          " Hakimi"
         ],
         "textposition": "top center",
         "type": "scatter3d",
         "x": [
          2.4
         ],
         "y": [
          1.2
         ],
         "z": [
          1
         ]
        },
        {
         "hovertemplate": "Player=Mikel Merino<br>Drb=%{x}<br>Key Pass=%{y}<br>Shot per Game=%{z}<br>Name=%{text}<extra></extra>",
         "legendgroup": "Mikel Merino",
         "marker": {
          "color": "#FECB52",
          "symbol": "circle"
         },
         "mode": "markers+text",
         "name": "Mikel Merino",
         "scene": "scene",
         "showlegend": true,
         "text": [
          "Merino"
         ],
         "textposition": "top center",
         "type": "scatter3d",
         "x": [
          1
         ],
         "y": [
          1
         ],
         "z": [
          1.1
         ]
        },
        {
         "hovertemplate": "Player=Wissam Ben Yedder<br>Drb=%{x}<br>Key Pass=%{y}<br>Shot per Game=%{z}<br>Name=%{text}<extra></extra>",
         "legendgroup": "Wissam Ben Yedder",
         "marker": {
          "color": "#636efa",
          "symbol": "circle"
         },
         "mode": "markers+text",
         "name": "Wissam Ben Yedder",
         "scene": "scene",
         "showlegend": true,
         "text": [
          "Ben Yedder"
         ],
         "textposition": "top center",
         "type": "scatter3d",
         "x": [
          1.3
         ],
         "y": [
          1.7
         ],
         "z": [
          2.5
         ]
        },
        {
         "hovertemplate": "Player=James Maddison<br>Drb=%{x}<br>Key Pass=%{y}<br>Shot per Game=%{z}<br>Name=%{text}<extra></extra>",
         "legendgroup": "James Maddison",
         "marker": {
          "color": "#EF553B",
          "symbol": "circle"
         },
         "mode": "markers+text",
         "name": "James Maddison",
         "scene": "scene",
         "showlegend": true,
         "text": [
          "Maddison"
         ],
         "textposition": "top center",
         "type": "scatter3d",
         "x": [
          1.6
         ],
         "y": [
          2.7
         ],
         "z": [
          2.2
         ]
        },
        {
         "hovertemplate": "Player=Joshua Kimmich<br>Drb=%{x}<br>Key Pass=%{y}<br>Shot per Game=%{z}<br>Name=%{text}<extra></extra>",
         "legendgroup": "Joshua Kimmich",
         "marker": {
          "color": "#00cc96",
          "symbol": "circle"
         },
         "mode": "markers+text",
         "name": "Joshua Kimmich",
         "scene": "scene",
         "showlegend": true,
         "text": [
          "kimmich"
         ],
         "textposition": "top center",
         "type": "scatter3d",
         "x": [
          0.8
         ],
         "y": [
          2.3
         ],
         "z": [
          0.7
         ]
        },
        {
         "hovertemplate": "Player=Marcus Rashford<br>Drb=%{x}<br>Key Pass=%{y}<br>Shot per Game=%{z}<br>Name=%{text}<extra></extra>",
         "legendgroup": "Marcus Rashford",
         "marker": {
          "color": "#ab63fa",
          "symbol": "circle"
         },
         "mode": "markers+text",
         "name": "Marcus Rashford",
         "scene": "scene",
         "showlegend": true,
         "text": [
          "Rashford"
         ],
         "textposition": "top center",
         "type": "scatter3d",
         "x": [
          2
         ],
         "y": [
          1.1
         ],
         "z": [
          3.4
         ]
        },
        {
         "hovertemplate": "Player=Idrissa Gueye<br>Drb=%{x}<br>Key Pass=%{y}<br>Shot per Game=%{z}<br>Name=%{text}<extra></extra>",
         "legendgroup": "Idrissa Gueye",
         "marker": {
          "color": "#FFA15A",
          "symbol": "circle"
         },
         "mode": "markers+text",
         "name": "Idrissa Gueye",
         "scene": "scene",
         "showlegend": true,
         "text": [
          "Gueye"
         ],
         "textposition": "top center",
         "type": "scatter3d",
         "x": [
          1.1
         ],
         "y": [
          1.2
         ],
         "z": [
          0.6
         ]
        },
        {
         "hovertemplate": "Player=Thomas Müller<br>Drb=%{x}<br>Key Pass=%{y}<br>Shot per Game=%{z}<br>Name=%{text}<extra></extra>",
         "legendgroup": "Thomas Müller",
         "marker": {
          "color": "#19d3f3",
          "symbol": "circle"
         },
         "mode": "markers+text",
         "name": "Thomas Müller",
         "scene": "scene",
         "showlegend": true,
         "text": [
          "Müller"
         ],
         "textposition": "top center",
         "type": "scatter3d",
         "x": [
          0.3
         ],
         "y": [
          2.4
         ],
         "z": [
          1.5
         ]
        },
        {
         "hovertemplate": "Player=Jack Grealish<br>Drb=%{x}<br>Key Pass=%{y}<br>Shot per Game=%{z}<br>Name=%{text}<extra></extra>",
         "legendgroup": "Jack Grealish",
         "marker": {
          "color": "#FF6692",
          "symbol": "circle"
         },
         "mode": "markers+text",
         "name": "Jack Grealish",
         "scene": "scene",
         "showlegend": true,
         "text": [
          "Grealish"
         ],
         "textposition": "top center",
         "type": "scatter3d",
         "x": [
          2.2
         ],
         "y": [
          2.7
         ],
         "z": [
          2.1
         ]
        },
        {
         "hovertemplate": "Player=Marcus Thuram<br>Drb=%{x}<br>Key Pass=%{y}<br>Shot per Game=%{z}<br>Name=%{text}<extra></extra>",
         "legendgroup": "Marcus Thuram",
         "marker": {
          "color": "#B6E880",
          "symbol": "circle"
         },
         "mode": "markers+text",
         "name": "Marcus Thuram",
         "scene": "scene",
         "showlegend": true,
         "text": [
          "Thuram"
         ],
         "textposition": "top center",
         "type": "scatter3d",
         "x": [
          2.3
         ],
         "y": [
          1
         ],
         "z": [
          1.8
         ]
        },
        {
         "hovertemplate": "Player=Sergej Milinkovic-Savic<br>Drb=%{x}<br>Key Pass=%{y}<br>Shot per Game=%{z}<br>Name=%{text}<extra></extra>",
         "legendgroup": "Sergej Milinkovic-Savic",
         "marker": {
          "color": "#FF97FF",
          "symbol": "circle"
         },
         "mode": "markers+text",
         "name": "Sergej Milinkovic-Savic",
         "scene": "scene",
         "showlegend": true,
         "text": [
          "Milinkovic-Savic"
         ],
         "textposition": "top center",
         "type": "scatter3d",
         "x": [
          1.2
         ],
         "y": [
          1.2
         ],
         "z": [
          2
         ]
        },
        {
         "hovertemplate": "Player=Gerard Moreno<br>Drb=%{x}<br>Key Pass=%{y}<br>Shot per Game=%{z}<br>Name=%{text}<extra></extra>",
         "legendgroup": "Gerard Moreno",
         "marker": {
          "color": "#FECB52",
          "symbol": "circle"
         },
         "mode": "markers+text",
         "name": "Gerard Moreno",
         "scene": "scene",
         "showlegend": true,
         "text": [
          " Moreno"
         ],
         "textposition": "top center",
         "type": "scatter3d",
         "x": [
          1.9
         ],
         "y": [
          1.6
         ],
         "z": [
          2.8
         ]
        }
       ],
       "layout": {
        "legend": {
         "title": {
          "text": "Player"
         },
         "tracegroupgap": 0
        },
        "scene": {
         "domain": {
          "x": [
           0,
           1
          ],
          "y": [
           0,
           1
          ]
         },
         "xaxis": {
          "title": {
           "text": "Drb"
          }
         },
         "yaxis": {
          "title": {
           "text": "Key Pass"
          }
         },
         "zaxis": {
          "title": {
           "text": "Shot per Game"
          }
         }
        },
        "template": {
         "data": {
          "bar": [
           {
            "error_x": {
             "color": "#2a3f5f"
            },
            "error_y": {
             "color": "#2a3f5f"
            },
            "marker": {
             "line": {
              "color": "#E5ECF6",
              "width": 0.5
             },
             "pattern": {
              "fillmode": "overlay",
              "size": 10,
              "solidity": 0.2
             }
            },
            "type": "bar"
           }
          ],
          "barpolar": [
           {
            "marker": {
             "line": {
              "color": "#E5ECF6",
              "width": 0.5
             },
             "pattern": {
              "fillmode": "overlay",
              "size": 10,
              "solidity": 0.2
             }
            },
            "type": "barpolar"
           }
          ],
          "carpet": [
           {
            "aaxis": {
             "endlinecolor": "#2a3f5f",
             "gridcolor": "white",
             "linecolor": "white",
             "minorgridcolor": "white",
             "startlinecolor": "#2a3f5f"
            },
            "baxis": {
             "endlinecolor": "#2a3f5f",
             "gridcolor": "white",
             "linecolor": "white",
             "minorgridcolor": "white",
             "startlinecolor": "#2a3f5f"
            },
            "type": "carpet"
           }
          ],
          "choropleth": [
           {
            "colorbar": {
             "outlinewidth": 0,
             "ticks": ""
            },
            "type": "choropleth"
           }
          ],
          "contour": [
           {
            "colorbar": {
             "outlinewidth": 0,
             "ticks": ""
            },
            "colorscale": [
             [
              0,
              "#0d0887"
             ],
             [
              0.1111111111111111,
              "#46039f"
             ],
             [
              0.2222222222222222,
              "#7201a8"
             ],
             [
              0.3333333333333333,
              "#9c179e"
             ],
             [
              0.4444444444444444,
              "#bd3786"
             ],
             [
              0.5555555555555556,
              "#d8576b"
             ],
             [
              0.6666666666666666,
              "#ed7953"
             ],
             [
              0.7777777777777778,
              "#fb9f3a"
             ],
             [
              0.8888888888888888,
              "#fdca26"
             ],
             [
              1,
              "#f0f921"
             ]
            ],
            "type": "contour"
           }
          ],
          "contourcarpet": [
           {
            "colorbar": {
             "outlinewidth": 0,
             "ticks": ""
            },
            "type": "contourcarpet"
           }
          ],
          "heatmap": [
           {
            "colorbar": {
             "outlinewidth": 0,
             "ticks": ""
            },
            "colorscale": [
             [
              0,
              "#0d0887"
             ],
             [
              0.1111111111111111,
              "#46039f"
             ],
             [
              0.2222222222222222,
              "#7201a8"
             ],
             [
              0.3333333333333333,
              "#9c179e"
             ],
             [
              0.4444444444444444,
              "#bd3786"
             ],
             [
              0.5555555555555556,
              "#d8576b"
             ],
             [
              0.6666666666666666,
              "#ed7953"
             ],
             [
              0.7777777777777778,
              "#fb9f3a"
             ],
             [
              0.8888888888888888,
              "#fdca26"
             ],
             [
              1,
              "#f0f921"
             ]
            ],
            "type": "heatmap"
           }
          ],
          "heatmapgl": [
           {
            "colorbar": {
             "outlinewidth": 0,
             "ticks": ""
            },
            "colorscale": [
             [
              0,
              "#0d0887"
             ],
             [
              0.1111111111111111,
              "#46039f"
             ],
             [
              0.2222222222222222,
              "#7201a8"
             ],
             [
              0.3333333333333333,
              "#9c179e"
             ],
             [
              0.4444444444444444,
              "#bd3786"
             ],
             [
              0.5555555555555556,
              "#d8576b"
             ],
             [
              0.6666666666666666,
              "#ed7953"
             ],
             [
              0.7777777777777778,
              "#fb9f3a"
             ],
             [
              0.8888888888888888,
              "#fdca26"
             ],
             [
              1,
              "#f0f921"
             ]
            ],
            "type": "heatmapgl"
           }
          ],
          "histogram": [
           {
            "marker": {
             "pattern": {
              "fillmode": "overlay",
              "size": 10,
              "solidity": 0.2
             }
            },
            "type": "histogram"
           }
          ],
          "histogram2d": [
           {
            "colorbar": {
             "outlinewidth": 0,
             "ticks": ""
            },
            "colorscale": [
             [
              0,
              "#0d0887"
             ],
             [
              0.1111111111111111,
              "#46039f"
             ],
             [
              0.2222222222222222,
              "#7201a8"
             ],
             [
              0.3333333333333333,
              "#9c179e"
             ],
             [
              0.4444444444444444,
              "#bd3786"
             ],
             [
              0.5555555555555556,
              "#d8576b"
             ],
             [
              0.6666666666666666,
              "#ed7953"
             ],
             [
              0.7777777777777778,
              "#fb9f3a"
             ],
             [
              0.8888888888888888,
              "#fdca26"
             ],
             [
              1,
              "#f0f921"
             ]
            ],
            "type": "histogram2d"
           }
          ],
          "histogram2dcontour": [
           {
            "colorbar": {
             "outlinewidth": 0,
             "ticks": ""
            },
            "colorscale": [
             [
              0,
              "#0d0887"
             ],
             [
              0.1111111111111111,
              "#46039f"
             ],
             [
              0.2222222222222222,
              "#7201a8"
             ],
             [
              0.3333333333333333,
              "#9c179e"
             ],
             [
              0.4444444444444444,
              "#bd3786"
             ],
             [
              0.5555555555555556,
              "#d8576b"
             ],
             [
              0.6666666666666666,
              "#ed7953"
             ],
             [
              0.7777777777777778,
              "#fb9f3a"
             ],
             [
              0.8888888888888888,
              "#fdca26"
             ],
             [
              1,
              "#f0f921"
             ]
            ],
            "type": "histogram2dcontour"
           }
          ],
          "mesh3d": [
           {
            "colorbar": {
             "outlinewidth": 0,
             "ticks": ""
            },
            "type": "mesh3d"
           }
          ],
          "parcoords": [
           {
            "line": {
             "colorbar": {
              "outlinewidth": 0,
              "ticks": ""
             }
            },
            "type": "parcoords"
           }
          ],
          "pie": [
           {
            "automargin": true,
            "type": "pie"
           }
          ],
          "scatter": [
           {
            "fillpattern": {
             "fillmode": "overlay",
             "size": 10,
             "solidity": 0.2
            },
            "type": "scatter"
           }
          ],
          "scatter3d": [
           {
            "line": {
             "colorbar": {
              "outlinewidth": 0,
              "ticks": ""
             }
            },
            "marker": {
             "colorbar": {
              "outlinewidth": 0,
              "ticks": ""
             }
            },
            "type": "scatter3d"
           }
          ],
          "scattercarpet": [
           {
            "marker": {
             "colorbar": {
              "outlinewidth": 0,
              "ticks": ""
             }
            },
            "type": "scattercarpet"
           }
          ],
          "scattergeo": [
           {
            "marker": {
             "colorbar": {
              "outlinewidth": 0,
              "ticks": ""
             }
            },
            "type": "scattergeo"
           }
          ],
          "scattergl": [
           {
            "marker": {
             "colorbar": {
              "outlinewidth": 0,
              "ticks": ""
             }
            },
            "type": "scattergl"
           }
          ],
          "scattermapbox": [
           {
            "marker": {
             "colorbar": {
              "outlinewidth": 0,
              "ticks": ""
             }
            },
            "type": "scattermapbox"
           }
          ],
          "scatterpolar": [
           {
            "marker": {
             "colorbar": {
              "outlinewidth": 0,
              "ticks": ""
             }
            },
            "type": "scatterpolar"
           }
          ],
          "scatterpolargl": [
           {
            "marker": {
             "colorbar": {
              "outlinewidth": 0,
              "ticks": ""
             }
            },
            "type": "scatterpolargl"
           }
          ],
          "scatterternary": [
           {
            "marker": {
             "colorbar": {
              "outlinewidth": 0,
              "ticks": ""
             }
            },
            "type": "scatterternary"
           }
          ],
          "surface": [
           {
            "colorbar": {
             "outlinewidth": 0,
             "ticks": ""
            },
            "colorscale": [
             [
              0,
              "#0d0887"
             ],
             [
              0.1111111111111111,
              "#46039f"
             ],
             [
              0.2222222222222222,
              "#7201a8"
             ],
             [
              0.3333333333333333,
              "#9c179e"
             ],
             [
              0.4444444444444444,
              "#bd3786"
             ],
             [
              0.5555555555555556,
              "#d8576b"
             ],
             [
              0.6666666666666666,
              "#ed7953"
             ],
             [
              0.7777777777777778,
              "#fb9f3a"
             ],
             [
              0.8888888888888888,
              "#fdca26"
             ],
             [
              1,
              "#f0f921"
             ]
            ],
            "type": "surface"
           }
          ],
          "table": [
           {
            "cells": {
             "fill": {
              "color": "#EBF0F8"
             },
             "line": {
              "color": "white"
             }
            },
            "header": {
             "fill": {
              "color": "#C8D4E3"
             },
             "line": {
              "color": "white"
             }
            },
            "type": "table"
           }
          ]
         },
         "layout": {
          "annotationdefaults": {
           "arrowcolor": "#2a3f5f",
           "arrowhead": 0,
           "arrowwidth": 1
          },
          "autotypenumbers": "strict",
          "coloraxis": {
           "colorbar": {
            "outlinewidth": 0,
            "ticks": ""
           }
          },
          "colorscale": {
           "diverging": [
            [
             0,
             "#8e0152"
            ],
            [
             0.1,
             "#c51b7d"
            ],
            [
             0.2,
             "#de77ae"
            ],
            [
             0.3,
             "#f1b6da"
            ],
            [
             0.4,
             "#fde0ef"
            ],
            [
             0.5,
             "#f7f7f7"
            ],
            [
             0.6,
             "#e6f5d0"
            ],
            [
             0.7,
             "#b8e186"
            ],
            [
             0.8,
             "#7fbc41"
            ],
            [
             0.9,
             "#4d9221"
            ],
            [
             1,
             "#276419"
            ]
           ],
           "sequential": [
            [
             0,
             "#0d0887"
            ],
            [
             0.1111111111111111,
             "#46039f"
            ],
            [
             0.2222222222222222,
             "#7201a8"
            ],
            [
             0.3333333333333333,
             "#9c179e"
            ],
            [
             0.4444444444444444,
             "#bd3786"
            ],
            [
             0.5555555555555556,
             "#d8576b"
            ],
            [
             0.6666666666666666,
             "#ed7953"
            ],
            [
             0.7777777777777778,
             "#fb9f3a"
            ],
            [
             0.8888888888888888,
             "#fdca26"
            ],
            [
             1,
             "#f0f921"
            ]
           ],
           "sequentialminus": [
            [
             0,
             "#0d0887"
            ],
            [
             0.1111111111111111,
             "#46039f"
            ],
            [
             0.2222222222222222,
             "#7201a8"
            ],
            [
             0.3333333333333333,
             "#9c179e"
            ],
            [
             0.4444444444444444,
             "#bd3786"
            ],
            [
             0.5555555555555556,
             "#d8576b"
            ],
            [
             0.6666666666666666,
             "#ed7953"
            ],
            [
             0.7777777777777778,
             "#fb9f3a"
            ],
            [
             0.8888888888888888,
             "#fdca26"
            ],
            [
             1,
             "#f0f921"
            ]
           ]
          },
          "colorway": [
           "#636efa",
           "#EF553B",
           "#00cc96",
           "#ab63fa",
           "#FFA15A",
           "#19d3f3",
           "#FF6692",
           "#B6E880",
           "#FF97FF",
           "#FECB52"
          ],
          "font": {
           "color": "#2a3f5f"
          },
          "geo": {
           "bgcolor": "white",
           "lakecolor": "white",
           "landcolor": "#E5ECF6",
           "showlakes": true,
           "showland": true,
           "subunitcolor": "white"
          },
          "hoverlabel": {
           "align": "left"
          },
          "hovermode": "closest",
          "mapbox": {
           "style": "light"
          },
          "paper_bgcolor": "white",
          "plot_bgcolor": "#E5ECF6",
          "polar": {
           "angularaxis": {
            "gridcolor": "white",
            "linecolor": "white",
            "ticks": ""
           },
           "bgcolor": "#E5ECF6",
           "radialaxis": {
            "gridcolor": "white",
            "linecolor": "white",
            "ticks": ""
           }
          },
          "scene": {
           "xaxis": {
            "backgroundcolor": "#E5ECF6",
            "gridcolor": "white",
            "gridwidth": 2,
            "linecolor": "white",
            "showbackground": true,
            "ticks": "",
            "zerolinecolor": "white"
           },
           "yaxis": {
            "backgroundcolor": "#E5ECF6",
            "gridcolor": "white",
            "gridwidth": 2,
            "linecolor": "white",
            "showbackground": true,
            "ticks": "",
            "zerolinecolor": "white"
           },
           "zaxis": {
            "backgroundcolor": "#E5ECF6",
            "gridcolor": "white",
            "gridwidth": 2,
            "linecolor": "white",
            "showbackground": true,
            "ticks": "",
            "zerolinecolor": "white"
           }
          },
          "shapedefaults": {
           "line": {
            "color": "#2a3f5f"
           }
          },
          "ternary": {
           "aaxis": {
            "gridcolor": "white",
            "linecolor": "white",
            "ticks": ""
           },
           "baxis": {
            "gridcolor": "white",
            "linecolor": "white",
            "ticks": ""
           },
           "bgcolor": "#E5ECF6",
           "caxis": {
            "gridcolor": "white",
            "linecolor": "white",
            "ticks": ""
           }
          },
          "title": {
           "x": 0.05
          },
          "xaxis": {
           "automargin": true,
           "gridcolor": "white",
           "linecolor": "white",
           "ticks": "",
           "title": {
            "standoff": 15
           },
           "zerolinecolor": "white",
           "zerolinewidth": 2
          },
          "yaxis": {
           "automargin": true,
           "gridcolor": "white",
           "linecolor": "white",
           "ticks": "",
           "title": {
            "standoff": 15
           },
           "zerolinecolor": "white",
           "zerolinewidth": 2
          }
         }
        },
        "title": {
         "text": "Dribbling PerG VS Key Pass PerG VS Shot per Game"
        }
       }
      }
     },
     "metadata": {},
     "output_type": "display_data"
    }
   ],
   "source": [
    "fig = px.scatter_3d(df,x=\"Drb\",y=\"Key Pass\",z=\"Shot per Game\",color=\"Player\",text=\"Name\",\n",
    "                    title=\"Dribbling PerG VS Key Pass PerG VS Shot per Game\")\n",
    "fig.update_traces(textposition='top center')\n",
    "figsize=(18,8)\n",
    "fig.show()\n"
   ]
  },
  {
   "cell_type": "code",
   "execution_count": 8,
   "metadata": {},
   "outputs": [
    {
     "data": {
      "image/png": "[encoded data removed]",
      "text/plain": [
       "<Figure size 1800x600 with 2 Axes>"
      ]
     },
     "metadata": {},
     "output_type": "display_data"
    }
   ],
   "source": [
    "\n",
    "\n",
    "plt.rcParams['figure.figsize'] = (18, 6)\n",
    "\n",
    "plt.subplot(1, 2, 1)\n",
    "sns.set(style = 'whitegrid')\n",
    "sns.distplot(df['Goals'])\n",
    "plt.title('Goals Distribution', fontsize = 20)\n",
    "plt.xlabel('Goals')\n",
    "plt.ylabel('Count')\n",
    "\n",
    "\n",
    "plt.subplot(1, 2, 2)\n",
    "sns.set(style = 'whitegrid')\n",
    "sns.distplot(df['Age'], color = 'yellow')\n",
    "plt.title('Assists Distribution', fontsize = 20)\n",
    "plt.xlabel('Assists Distribution')\n",
    "plt.ylabel('Count')\n",
    "plt.show()\n",
    "\n"
   ]
  },
  {
   "attachments": {},
   "cell_type": "markdown",
   "metadata": {},
   "source": [
    "K-Mean Algorithm for clustering player on the basis of Goals and Assists"
   ]
  },
  {
   "cell_type": "code",
   "execution_count": 9,
   "metadata": {},
   "outputs": [
    {
     "data": {
      "image/png": "[encoded data removed]",
      "text/plain": [
       "<Figure size 1800x600 with 1 Axes>"
      ]
     },
     "metadata": {},
     "output_type": "display_data"
    }
   ],
   "source": [
    "X= df.iloc[:, [8,7]].values\n",
    "from sklearn.cluster import KMeans\n",
    "wcss=[]\n",
    "for i in range(1,11):\n",
    "    kmeans = KMeans(n_clusters= i, init='k-means++', random_state=0)\n",
    "    kmeans.fit(X)\n",
    "    wcss.append(kmeans.inertia_)     \n",
    "plt.plot(range(1,11), wcss,)\n",
    "plt.title('The Elbow Method')\n",
    "plt.xlabel('no of clusters')\n",
    "plt.ylabel('wcss')\n",
    "plt.show() "
   ]
  },
  {
   "cell_type": "code",
   "execution_count": 10,
   "metadata": {},
   "outputs": [],
   "source": [
    "kmeansmodel = KMeans(n_clusters=6 , init='k-means++', random_state=0)\n",
    "y_kmeans= kmeansmodel.fit_predict(X)\n",
    "labels = kmeansmodel.labels_\n",
    "df[\"label\"]=labels\n",
    "df.loc[df['label'] == 5, 'Category'] = 'good season'\n",
    "df.loc[df['label'] == 4, 'Category'] = 'Midfield Maestro'\n",
    "df.loc[df['label'] == 3, 'Category'] = 'POTS nominees'\n",
    "df.loc[df['label'] == 2, 'Category'] = 'Bad Season'\n",
    "df.loc[df['label'] == 1, 'Category'] = 'Match winners'\n",
    "df.loc[df['label'] == 0, 'Category'] = 'contributer'\n"
   ]
  },
  {
   "attachments": {},
   "cell_type": "markdown",
   "metadata": {},
   "source": [
    "\n",
    "\n",
    "Scatter plot of clusters\n"
   ]
  },
  {
   "cell_type": "code",
   "execution_count": 11,
   "metadata": {},
   "outputs": [
    {
     "data": {
      "application/vnd.plotly.v1+json": {
       "config": {
        "plotlyServerURL": "https://plot.ly"
       },
       "data": [
        {
         "hovertemplate": "Category=Match winners<br>Assists=%{x}<br>Goals=%{y}<br>Name=%{text}<extra></extra>",
         "legendgroup": "Match winners",
         "marker": {
          "color": "#636efa",
          "symbol": "circle"
         },
         "mode": "markers+text",
         "name": "Match winners",
         "orientation": "v",
         "showlegend": true,
         "text": [
          "Messi",
          "Mbappé",
          " Ilicic",
          "Werner",
          "Mané",
          "Salah",
          "Lukaku",
          "Benzema",
          "Ben Yedder",
          "Rashford"
         ],
         "textposition": "top center",
         "type": "scatter",
         "x": [
          12,
          5,
          5,
          7,
          7,
          6,
          2,
          6,
          4,
          4
         ],
         "xaxis": "x",
         "y": [
          19,
          18,
          15,
          21,
          14,
          16,
          17,
          14,
          18,
          14
         ],
         "yaxis": "y"
        },
        {
         "hovertemplate": "Category=POTS nominees<br>Assists=%{x}<br>Goals=%{y}<br>Name=%{text}<extra></extra>",
         "legendgroup": "POTS nominees",
         "marker": {
          "color": "#EF553B",
          "symbol": "circle"
         },
         "mode": "markers+text",
         "name": "POTS nominees",
         "orientation": "v",
         "showlegend": true,
         "text": [
          "Ronaldo",
          " Lewandowski",
          "Immobile"
         ],
         "textposition": "top center",
         "type": "scatter",
         "x": [
          13,
          3,
          7
         ],
         "xaxis": "x",
         "y": [
          29,
          25,
          27
         ],
         "yaxis": "y"
        },
        {
         "hovertemplate": "Category=Midfield Maestro<br>Assists=%{x}<br>Goals=%{y}<br>Name=%{text}<extra></extra>",
         "legendgroup": "Midfield Maestro",
         "marker": {
          "color": "#00cc96",
          "symbol": "circle"
         },
         "mode": "markers+text",
         "name": "Midfield Maestro",
         "orientation": "v",
         "showlegend": true,
         "text": [
          "De Bruyne",
          "Sancho",
          "Di María",
          "Müller"
         ],
         "textposition": "top center",
         "type": "scatter",
         "x": [
          16,
          15,
          14,
          16
         ],
         "xaxis": "x",
         "y": [
          8,
          14,
          8,
          6
         ],
         "yaxis": "y"
        },
        {
         "hovertemplate": "Category=good season<br>Assists=%{x}<br>Goals=%{y}<br>Name=%{text}<extra></extra>",
         "legendgroup": "good season",
         "marker": {
          "color": "#ab63fa",
          "symbol": "circle"
         },
         "mode": "markers+text",
         "name": "good season",
         "orientation": "v",
         "showlegend": true,
         "text": [
          "Neymar",
          "Payet",
          "Gnabry",
          "Zapata",
          "Suárez",
          "Dzeko",
          "Reus",
          "Berardi",
          "Dybala",
          "Grealish",
          " Moreno"
         ],
         "textposition": "top center",
         "type": "scatter",
         "x": [
          6,
          4,
          9,
          5,
          7,
          4,
          5,
          5,
          4,
          6,
          3
         ],
         "xaxis": "x",
         "y": [
          13,
          9,
          11,
          11,
          11,
          12,
          11,
          9,
          7,
          7,
          11
         ],
         "yaxis": "y"
        },
        {
         "hovertemplate": "Category=contributer<br>Assists=%{x}<br>Goals=%{y}<br>Name=%{text}<extra></extra>",
         "legendgroup": "contributer",
         "marker": {
          "color": "#FFA15A",
          "symbol": "circle"
         },
         "mode": "markers+text",
         "name": "contributer",
         "orientation": "v",
         "showlegend": true,
         "text": [
          "Alberto",
          "Traoré",
          "Mahrez",
          "Kostic",
          "Nkunku",
          " Gómez",
          " Hakimi",
          "Thuram"
         ],
         "textposition": "top center",
         "type": "scatter",
         "x": [
          12,
          7,
          8,
          8,
          12,
          10,
          10,
          8
         ],
         "xaxis": "x",
         "y": [
          4,
          4,
          7,
          4,
          4,
          6,
          3,
          6
         ],
         "yaxis": "y"
        },
        {
         "hovertemplate": "Category=Bad Season<br>Assists=%{x}<br>Goals=%{y}<br>Name=%{text}<extra></extra>",
         "legendgroup": "Bad Season",
         "marker": {
          "color": "#19d3f3",
          "symbol": "circle"
         },
         "mode": "markers+text",
         "name": "Bad Season",
         "orientation": "v",
         "showlegend": true,
         "text": [
          "Thiago",
          "Casemiro",
          "Davies",
          "Pereira",
          "Savanier",
          "Serdar",
          "Fekir",
          "Guerreiro",
          "Ndidi",
          "Merino",
          "Maddison",
          "kimmich",
          "Gueye",
          "Milinkovic-Savic"
         ],
         "textposition": "top center",
         "type": "scatter",
         "x": [
          0,
          2,
          4,
          2,
          2,
          0,
          3,
          2,
          1,
          1,
          3,
          4,
          2,
          4
         ],
         "xaxis": "x",
         "y": [
          3,
          3,
          1,
          3,
          6,
          7,
          7,
          5,
          2,
          3,
          6,
          2,
          1,
          4
         ],
         "yaxis": "y"
        }
       ],
       "layout": {
        "legend": {
         "title": {
          "text": "Category"
         },
         "tracegroupgap": 0
        },
        "template": {
         "data": {
          "bar": [
           {
            "error_x": {
             "color": "#2a3f5f"
            },
            "error_y": {
             "color": "#2a3f5f"
            },
            "marker": {
             "line": {
              "color": "#E5ECF6",
              "width": 0.5
             },
             "pattern": {
              "fillmode": "overlay",
              "size": 10,
              "solidity": 0.2
             }
            },
            "type": "bar"
           }
          ],
          "barpolar": [
           {
            "marker": {
             "line": {
              "color": "#E5ECF6",
              "width": 0.5
             },
             "pattern": {
              "fillmode": "overlay",
              "size": 10,
              "solidity": 0.2
             }
            },
            "type": "barpolar"
           }
          ],
          "carpet": [
           {
            "aaxis": {
             "endlinecolor": "#2a3f5f",
             "gridcolor": "white",
             "linecolor": "white",
             "minorgridcolor": "white",
             "startlinecolor": "#2a3f5f"
            },
            "baxis": {
             "endlinecolor": "#2a3f5f",
             "gridcolor": "white",
             "linecolor": "white",
             "minorgridcolor": "white",
             "startlinecolor": "#2a3f5f"
            },
            "type": "carpet"
           }
          ],
          "choropleth": [
           {
            "colorbar": {
             "outlinewidth": 0,
             "ticks": ""
            },
            "type": "choropleth"
           }
          ],
          "contour": [
           {
            "colorbar": {
             "outlinewidth": 0,
             "ticks": ""
            },
            "colorscale": [
             [
              0,
              "#0d0887"
             ],
             [
              0.1111111111111111,
              "#46039f"
             ],
             [
              0.2222222222222222,
              "#7201a8"
             ],
             [
              0.3333333333333333,
              "#9c179e"
             ],
             [
              0.4444444444444444,
              "#bd3786"
             ],
             [
              0.5555555555555556,
              "#d8576b"
             ],
             [
              0.6666666666666666,
              "#ed7953"
             ],
             [
              0.7777777777777778,
              "#fb9f3a"
             ],
             [
              0.8888888888888888,
              "#fdca26"
             ],
             [
              1,
              "#f0f921"
             ]
            ],
            "type": "contour"
           }
          ],
          "contourcarpet": [
           {
            "colorbar": {
             "outlinewidth": 0,
             "ticks": ""
            },
            "type": "contourcarpet"
           }
          ],
          "heatmap": [
           {
            "colorbar": {
             "outlinewidth": 0,
             "ticks": ""
            },
            "colorscale": [
             [
              0,
              "#0d0887"
             ],
             [
              0.1111111111111111,
              "#46039f"
             ],
             [
              0.2222222222222222,
              "#7201a8"
             ],
             [
              0.3333333333333333,
              "#9c179e"
             ],
             [
              0.4444444444444444,
              "#bd3786"
             ],
             [
              0.5555555555555556,
              "#d8576b"
             ],
             [
              0.6666666666666666,
              "#ed7953"
             ],
             [
              0.7777777777777778,
              "#fb9f3a"
             ],
             [
              0.8888888888888888,
              "#fdca26"
             ],
             [
              1,
              "#f0f921"
             ]
            ],
            "type": "heatmap"
           }
          ],
          "heatmapgl": [
           {
            "colorbar": {
             "outlinewidth": 0,
             "ticks": ""
            },
            "colorscale": [
             [
              0,
              "#0d0887"
             ],
             [
              0.1111111111111111,
              "#46039f"
             ],
             [
              0.2222222222222222,
              "#7201a8"
             ],
             [
              0.3333333333333333,
              "#9c179e"
             ],
             [
              0.4444444444444444,
              "#bd3786"
             ],
             [
              0.5555555555555556,
              "#d8576b"
             ],
             [
              0.6666666666666666,
              "#ed7953"
             ],
             [
              0.7777777777777778,
              "#fb9f3a"
             ],
             [
              0.8888888888888888,
              "#fdca26"
             ],
             [
              1,
              "#f0f921"
             ]
            ],
            "type": "heatmapgl"
           }
          ],
          "histogram": [
           {
            "marker": {
             "pattern": {
              "fillmode": "overlay",
              "size": 10,
              "solidity": 0.2
             }
            },
            "type": "histogram"
           }
          ],
          "histogram2d": [
           {
            "colorbar": {
             "outlinewidth": 0,
             "ticks": ""
            },
            "colorscale": [
             [
              0,
              "#0d0887"
             ],
             [
              0.1111111111111111,
              "#46039f"
             ],
             [
              0.2222222222222222,
              "#7201a8"
             ],
             [
              0.3333333333333333,
              "#9c179e"
             ],
             [
              0.4444444444444444,
              "#bd3786"
             ],
             [
              0.5555555555555556,
              "#d8576b"
             ],
             [
              0.6666666666666666,
              "#ed7953"
             ],
             [
              0.7777777777777778,
              "#fb9f3a"
             ],
             [
              0.8888888888888888,
              "#fdca26"
             ],
             [
              1,
              "#f0f921"
             ]
            ],
            "type": "histogram2d"
           }
          ],
          "histogram2dcontour": [
           {
            "colorbar": {
             "outlinewidth": 0,
             "ticks": ""
            },
            "colorscale": [
             [
              0,
              "#0d0887"
             ],
             [
              0.1111111111111111,
              "#46039f"
             ],
             [
              0.2222222222222222,
              "#7201a8"
             ],
             [
              0.3333333333333333,
              "#9c179e"
             ],
             [
              0.4444444444444444,
              "#bd3786"
             ],
             [
              0.5555555555555556,
              "#d8576b"
             ],
             [
              0.6666666666666666,
              "#ed7953"
             ],
             [
              0.7777777777777778,
              "#fb9f3a"
             ],
             [
              0.8888888888888888,
              "#fdca26"
             ],
             [
              1,
              "#f0f921"
             ]
            ],
            "type": "histogram2dcontour"
           }
          ],
          "mesh3d": [
           {
            "colorbar": {
             "outlinewidth": 0,
             "ticks": ""
            },
            "type": "mesh3d"
           }
          ],
          "parcoords": [
           {
            "line": {
             "colorbar": {
              "outlinewidth": 0,
              "ticks": ""
             }
            },
            "type": "parcoords"
           }
          ],
          "pie": [
           {
            "automargin": true,
            "type": "pie"
           }
          ],
          "scatter": [
           {
            "fillpattern": {
             "fillmode": "overlay",
             "size": 10,
             "solidity": 0.2
            },
            "type": "scatter"
           }
          ],
          "scatter3d": [
           {
            "line": {
             "colorbar": {
              "outlinewidth": 0,
              "ticks": ""
             }
            },
            "marker": {
             "colorbar": {
              "outlinewidth": 0,
              "ticks": ""
             }
            },
            "type": "scatter3d"
           }
          ],
          "scattercarpet": [
           {
            "marker": {
             "colorbar": {
              "outlinewidth": 0,
              "ticks": ""
             }
            },
            "type": "scattercarpet"
           }
          ],
          "scattergeo": [
           {
            "marker": {
             "colorbar": {
              "outlinewidth": 0,
              "ticks": ""
             }
            },
            "type": "scattergeo"
           }
          ],
          "scattergl": [
           {
            "marker": {
             "colorbar": {
              "outlinewidth": 0,
              "ticks": ""
             }
            },
            "type": "scattergl"
           }
          ],
          "scattermapbox": [
           {
            "marker": {
             "colorbar": {
              "outlinewidth": 0,
              "ticks": ""
             }
            },
            "type": "scattermapbox"
           }
          ],
          "scatterpolar": [
           {
            "marker": {
             "colorbar": {
              "outlinewidth": 0,
              "ticks": ""
             }
            },
            "type": "scatterpolar"
           }
          ],
          "scatterpolargl": [
           {
            "marker": {
             "colorbar": {
              "outlinewidth": 0,
              "ticks": ""
             }
            },
            "type": "scatterpolargl"
           }
          ],
          "scatterternary": [
           {
            "marker": {
             "colorbar": {
              "outlinewidth": 0,
              "ticks": ""
             }
            },
            "type": "scatterternary"
           }
          ],
          "surface": [
           {
            "colorbar": {
             "outlinewidth": 0,
             "ticks": ""
            },
            "colorscale": [
             [
              0,
              "#0d0887"
             ],
             [
              0.1111111111111111,
              "#46039f"
             ],
             [
              0.2222222222222222,
              "#7201a8"
             ],
             [
              0.3333333333333333,
              "#9c179e"
             ],
             [
              0.4444444444444444,
              "#bd3786"
             ],
             [
              0.5555555555555556,
              "#d8576b"
             ],
             [
              0.6666666666666666,
              "#ed7953"
             ],
             [
              0.7777777777777778,
              "#fb9f3a"
             ],
             [
              0.8888888888888888,
              "#fdca26"
             ],
             [
              1,
              "#f0f921"
             ]
            ],
            "type": "surface"
           }
          ],
          "table": [
           {
            "cells": {
             "fill": {
              "color": "#EBF0F8"
             },
             "line": {
              "color": "white"
             }
            },
            "header": {
             "fill": {
              "color": "#C8D4E3"
             },
             "line": {
              "color": "white"
             }
            },
            "type": "table"
           }
          ]
         },
         "layout": {
          "annotationdefaults": {
           "arrowcolor": "#2a3f5f",
           "arrowhead": 0,
           "arrowwidth": 1
          },
          "autotypenumbers": "strict",
          "coloraxis": {
           "colorbar": {
            "outlinewidth": 0,
            "ticks": ""
           }
          },
          "colorscale": {
           "diverging": [
            [
             0,
             "#8e0152"
            ],
            [
             0.1,
             "#c51b7d"
            ],
            [
             0.2,
             "#de77ae"
            ],
            [
             0.3,
             "#f1b6da"
            ],
            [
             0.4,
             "#fde0ef"
            ],
            [
             0.5,
             "#f7f7f7"
            ],
            [
             0.6,
             "#e6f5d0"
            ],
            [
             0.7,
             "#b8e186"
            ],
            [
             0.8,
             "#7fbc41"
            ],
            [
             0.9,
             "#4d9221"
            ],
            [
             1,
             "#276419"
            ]
           ],
           "sequential": [
            [
             0,
             "#0d0887"
            ],
            [
             0.1111111111111111,
             "#46039f"
            ],
            [
             0.2222222222222222,
             "#7201a8"
            ],
            [
             0.3333333333333333,
             "#9c179e"
            ],
            [
             0.4444444444444444,
             "#bd3786"
            ],
            [
             0.5555555555555556,
             "#d8576b"
            ],
            [
             0.6666666666666666,
             "#ed7953"
            ],
            [
             0.7777777777777778,
             "#fb9f3a"
            ],
            [
             0.8888888888888888,
             "#fdca26"
            ],
            [
             1,
             "#f0f921"
            ]
           ],
           "sequentialminus": [
            [
             0,
             "#0d0887"
            ],
            [
             0.1111111111111111,
             "#46039f"
            ],
            [
             0.2222222222222222,
             "#7201a8"
            ],
            [
             0.3333333333333333,
             "#9c179e"
            ],
            [
             0.4444444444444444,
             "#bd3786"
            ],
            [
             0.5555555555555556,
             "#d8576b"
            ],
            [
             0.6666666666666666,
             "#ed7953"
            ],
            [
             0.7777777777777778,
             "#fb9f3a"
            ],
            [
             0.8888888888888888,
             "#fdca26"
            ],
            [
             1,
             "#f0f921"
            ]
           ]
          },
          "colorway": [
           "#636efa",
           "#EF553B",
           "#00cc96",
           "#ab63fa",
           "#FFA15A",
           "#19d3f3",
           "#FF6692",
           "#B6E880",
           "#FF97FF",
           "#FECB52"
          ],
          "font": {
           "color": "#2a3f5f"
          },
          "geo": {
           "bgcolor": "white",
           "lakecolor": "white",
           "landcolor": "#E5ECF6",
           "showlakes": true,
           "showland": true,
           "subunitcolor": "white"
          },
          "hoverlabel": {
           "align": "left"
          },
          "hovermode": "closest",
          "mapbox": {
           "style": "light"
          },
          "paper_bgcolor": "white",
          "plot_bgcolor": "#E5ECF6",
          "polar": {
           "angularaxis": {
            "gridcolor": "white",
            "linecolor": "white",
            "ticks": ""
           },
           "bgcolor": "#E5ECF6",
           "radialaxis": {
            "gridcolor": "white",
            "linecolor": "white",
            "ticks": ""
           }
          },
          "scene": {
           "xaxis": {
            "backgroundcolor": "#E5ECF6",
            "gridcolor": "white",
            "gridwidth": 2,
            "linecolor": "white",
            "showbackground": true,
            "ticks": "",
            "zerolinecolor": "white"
           },
           "yaxis": {
            "backgroundcolor": "#E5ECF6",
            "gridcolor": "white",
            "gridwidth": 2,
            "linecolor": "white",
            "showbackground": true,
            "ticks": "",
            "zerolinecolor": "white"
           },
           "zaxis": {
            "backgroundcolor": "#E5ECF6",
            "gridcolor": "white",
            "gridwidth": 2,
            "linecolor": "white",
            "showbackground": true,
            "ticks": "",
            "zerolinecolor": "white"
           }
          },
          "shapedefaults": {
           "line": {
            "color": "#2a3f5f"
           }
          },
          "ternary": {
           "aaxis": {
            "gridcolor": "white",
            "linecolor": "white",
            "ticks": ""
           },
           "baxis": {
            "gridcolor": "white",
            "linecolor": "white",
            "ticks": ""
           },
           "bgcolor": "#E5ECF6",
           "caxis": {
            "gridcolor": "white",
            "linecolor": "white",
            "ticks": ""
           }
          },
          "title": {
           "x": 0.05
          },
          "xaxis": {
           "automargin": true,
           "gridcolor": "white",
           "linecolor": "white",
           "ticks": "",
           "title": {
            "standoff": 15
           },
           "zerolinecolor": "white",
           "zerolinewidth": 2
          },
          "yaxis": {
           "automargin": true,
           "gridcolor": "white",
           "linecolor": "white",
           "ticks": "",
           "title": {
            "standoff": 15
           },
           "zerolinecolor": "white",
           "zerolinewidth": 2
          }
         }
        },
        "title": {
         "text": "K-mean clustering of Assists VS Goals"
        },
        "xaxis": {
         "anchor": "y",
         "domain": [
          0,
          1
         ],
         "title": {
          "text": "Assists"
         }
        },
        "yaxis": {
         "anchor": "x",
         "domain": [
          0,
          1
         ],
         "title": {
          "text": "Goals"
         }
        }
       }
      }
     },
     "metadata": {},
     "output_type": "display_data"
    }
   ],
   "source": [
    "fig = px.scatter(df,x=\"Assists\",y=\"Goals\",color=\"Category\",text=\"Name\",title=\"K-mean clustering of Assists VS Goals\")\n",
    "fig.update_traces(textposition='top center')\n",
    "fig.show()\n"
   ]
  },
  {
   "cell_type": "code",
   "execution_count": 12,
   "metadata": {},
   "outputs": [
    {
     "data": {
      "text/plain": [
       "<matplotlib.legend.Legend at 0x2281a54e020>"
      ]
     },
     "execution_count": 12,
     "metadata": {},
     "output_type": "execute_result"
    },
    {
     "data": {
      "image/png": "[encoded data removed]",
      "text/plain": [
       "<Figure size 1000x600 with 1 Axes>"
      ]
     },
     "metadata": {},
     "output_type": "display_data"
    }
   ],
   "source": [
    "fig=plt.figure(figsize=(10,6))\n",
    "plt.scatter(X[y_kmeans == 0, 0], X[y_kmeans == 0, 1], s = 100, c = 'orange', label = 'Contributer')\n",
    "plt.scatter(X[y_kmeans == 1, 0], X[y_kmeans == 1, 1], s = 100, c = 'b', label = 'Match winners')\n",
    "plt.scatter(X[y_kmeans == 2, 0], X[y_kmeans == 2, 1], s = 100, c = 'c', label = 'Bad Season')\n",
    "plt.scatter(X[y_kmeans == 3, 0], X[y_kmeans == 3, 1], s = 100, c = 'r', label = 'POTS nominees')\n",
    "plt.scatter(X[y_kmeans == 4, 0], X[y_kmeans == 4, 1], s = 100, c = 'g', label = 'Midfield Maestro')\n",
    "plt.scatter(X[y_kmeans == 5, 0], X[y_kmeans == 5, 1], s = 100, c = 'm', label = 'good season')\n",
    "plt.style.use('fivethirtyeight')\n",
    "plt.title('Player Cluster', fontsize = 15)\n",
    "plt.xlabel('Assists')\n",
    "plt.ylabel('Goals')\n",
    "plt.legend()"
   ]
  }
 ],
 "metadata": {
  "kernelspec": {
   "display_name": "Python 3",
   "language": "python",
   "name": "python3"
  },
  "language_info": {
   "codemirror_mode": {
    "name": "ipython",
    "version": 3
   },
   "file_extension": ".py",
   "mimetype": "text/x-python",
   "name": "python",
   "nbconvert_exporter": "python",
   "pygments_lexer": "ipython3",
   "version": "3.10.11"
  },
  "orig_nbformat": 4
 },
 "nbformat": 4,
 "nbformat_minor": 2
}
